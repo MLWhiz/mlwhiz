{
 "metadata": {
  "name": "",
  "signature": "sha256:bec67d93e1c29167b6ce864df0b233c78d80f669e20530ac8d1c15b9a634fdc3"
 },
 "nbformat": 3,
 "nbformat_minor": 0,
 "worksheets": [
  {
   "cells": [
    {
     "cell_type": "markdown",
     "metadata": {},
     "source": [
      "#Learning pyspark \u2013 Installation \u2013 Part 1\n",
      "\n",
      "This is part one of a learning series of pyspark, which is a python binding to the spark program written in Scala.\n",
      "\n",
      "The installation is pretty simple. These steps were done on Mac OS Mavericks but should work for Linux too. Here are the steps for the installation:\n",
      "\n",
      "###1. Download the Binaries:"
     ]
    },
    {
     "cell_type": "code",
     "collapsed": false,
     "input": [
      "Spark : http://spark.apache.org/downloads.html\n",
      "Scala : http://www.scala-lang.org/download/\n",
      "\n",
      "Dont use Latest Version of Scala, Use Scala 2.10.x"
     ],
     "language": "python",
     "metadata": {},
     "outputs": []
    },
    {
     "cell_type": "markdown",
     "metadata": {},
     "source": [
      "###2. Add these lines to your .bash_profile:"
     ]
    },
    {
     "cell_type": "code",
     "collapsed": false,
     "input": [
      "export SCALA_HOME=your_path_to_scala\n",
      "export SPARK_HOME=your_path_to_spark"
     ],
     "language": "python",
     "metadata": {},
     "outputs": []
    },
    {
     "cell_type": "markdown",
     "metadata": {},
     "source": [
      "###3. Build Spark(This will take time):"
     ]
    },
    {
     "cell_type": "code",
     "collapsed": false,
     "input": [
      "brew install sbt\n",
      "cd $SPARK_HOME\n",
      "sbt/sbt assembly"
     ],
     "language": "python",
     "metadata": {},
     "outputs": []
    },
    {
     "cell_type": "markdown",
     "metadata": {},
     "source": [
      "###4. Start the Pyspark Shell:"
     ]
    },
    {
     "cell_type": "code",
     "collapsed": false,
     "input": [
      "$SPARK_HOME/bin/pyspark"
     ],
     "language": "python",
     "metadata": {},
     "outputs": []
    },
    {
     "cell_type": "markdown",
     "metadata": {},
     "source": [
      "And Voila. You are running pyspark on your Machine\n",
      "\n",
      "To check that everything is properly installed, Lets run a simple program:\n"
     ]
    },
    {
     "cell_type": "code",
     "collapsed": false,
     "input": [
      "test = sc.parallelize([1,2,3])\n",
      "test.count()"
     ],
     "language": "python",
     "metadata": {},
     "outputs": []
    },
    {
     "cell_type": "markdown",
     "metadata": {},
     "source": [
      "This should return 3.\n",
      "\n",
      "So Now Just Run Hadoop On your Machine and then run pyspark Using:\n"
     ]
    },
    {
     "cell_type": "code",
     "collapsed": false,
     "input": [
      "cd /usr/local/hadoop/\n",
      "bin/start-all.sh\n",
      "jps\n",
      "$SPARK_HOME/bin/pyspark"
     ],
     "language": "python",
     "metadata": {},
     "outputs": []
    }
   ],
   "metadata": {}
  }
 ]
}