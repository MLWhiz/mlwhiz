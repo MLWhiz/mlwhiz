{
 "cells": [
  {
   "cell_type": "code",
   "execution_count": 1,
   "id": "42375167",
   "metadata": {},
   "outputs": [],
   "source": [
    "import pandas as pd\n",
    "import re\n",
    "import argparse\n",
    "import requests\n",
    "from datetime import datetime\n",
    "import os\n"
   ]
  },
  {
   "cell_type": "code",
   "execution_count": 2,
   "id": "0b2da528",
   "metadata": {},
   "outputs": [],
   "source": [
    "from glob import glob"
   ]
  },
  {
   "cell_type": "code",
   "execution_count": 3,
   "id": "b2b76741",
   "metadata": {},
   "outputs": [
    {
     "name": "stdout",
     "output_type": "stream",
     "text": [
      "#https://github.com/ZhgChgLi/ZMediumToMarkdown\n",
      "You have read and agree with the Disclaimer.\n",
      "[the-primer-on-as...]-Downloading Post...\n",
      "[the-primer-on-as...]-Formatting Data...\n",
      "[the-primer-on-as...(0/69)]-Converting Post...\n",
      "[the-primer-on-as...(1/69)]-Converting Post...\n",
      "[the-primer-on-as...(2/69)]-Converting Post...\n",
      "[the-primer-on-as...(3/69)]-Converting Post...\n",
      "[the-primer-on-as...(4/69)]-Converting Post...\n",
      "[the-primer-on-as...(5/69)]-Converting Post...\n",
      "[the-primer-on-as...(6/69)]-Converting Post...\n",
      "[the-primer-on-as...(7/69)]-Converting Post...\n",
      "[the-primer-on-as...(8/69)]-Converting Post...\n",
      "[the-primer-on-as...(9/69)]-Converting Post...\n",
      "[the-primer-on-as...(10/69)]-Converting Post...\n",
      "[the-primer-on-as...(11/69)]-Converting Post...\n",
      "[the-primer-on-as...(12/69)]-Converting Post...\n",
      "[the-primer-on-as...(13/69)]-Converting Post...\n",
      "[the-primer-on-as...(14/69)]-Converting Post...\n",
      "[the-primer-on-as...(15/69)]-Converting Post...\n",
      "[the-primer-on-as...(16/69)]-Converting Post...\n",
      "[the-primer-on-as...(17/69)]-Converting Post...\n",
      "[the-primer-on-as...(18/69)]-Converting Post...\n",
      "[the-primer-on-as...(19/69)]-Converting Post...\n",
      "[the-primer-on-as...(20/69)]-Converting Post...\n",
      "[the-primer-on-as...(21/69)]-Converting Post...\n",
      "[the-primer-on-as...(22/69)]-Converting Post...\n",
      "[the-primer-on-as...(23/69)]-Converting Post...\n",
      "[the-primer-on-as...(24/69)]-Converting Post...\n",
      "[the-primer-on-as...(25/69)]-Converting Post...\n",
      "[the-primer-on-as...(26/69)]-Converting Post...\n",
      "[the-primer-on-as...(27/69)]-Converting Post...\n",
      "[the-primer-on-as...(28/69)]-Converting Post...\n",
      "[the-primer-on-as...(29/69)]-Converting Post...\n",
      "[the-primer-on-as...(30/69)]-Converting Post...\n",
      "[the-primer-on-as...(31/69)]-Converting Post...\n",
      "[the-primer-on-as...(32/69)]-Converting Post...\n",
      "[the-primer-on-as...(33/69)]-Converting Post...\n",
      "[the-primer-on-as...(34/69)]-Converting Post...\n",
      "[the-primer-on-as...(35/69)]-Converting Post...\n",
      "[the-primer-on-as...(36/69)]-Converting Post...\n",
      "[the-primer-on-as...(37/69)]-Converting Post...\n",
      "[the-primer-on-as...(38/69)]-Converting Post...\n",
      "[the-primer-on-as...(39/69)]-Converting Post...\n",
      "[the-primer-on-as...(40/69)]-Converting Post...\n",
      "[the-primer-on-as...(41/69)]-Converting Post...\n",
      "[the-primer-on-as...(42/69)]-Converting Post...\n",
      "[the-primer-on-as...(43/69)]-Converting Post...\n",
      "[the-primer-on-as...(44/69)]-Converting Post...\n",
      "[the-primer-on-as...(45/69)]-Converting Post...\n",
      "[the-primer-on-as...(46/69)]-Converting Post...\n",
      "[the-primer-on-as...(47/69)]-Converting Post...\n",
      "[the-primer-on-as...(48/69)]-Converting Post...\n",
      "[the-primer-on-as...(49/69)]-Converting Post...\n",
      "[the-primer-on-as...(50/69)]-Converting Post...\n",
      "[the-primer-on-as...(51/69)]-Converting Post...\n",
      "[the-primer-on-as...(52/69)]-Converting Post...\n",
      "[the-primer-on-as...(53/69)]-Converting Post...\n",
      "[the-primer-on-as...(54/69)]-Converting Post...\n",
      "[the-primer-on-as...(55/69)]-Converting Post...\n",
      "[the-primer-on-as...(56/69)]-Converting Post...\n",
      "[the-primer-on-as...(57/69)]-Converting Post...\n",
      "[the-primer-on-as...(58/69)]-Converting Post...\n",
      "[the-primer-on-as...(59/69)]-Converting Post...\n",
      "[the-primer-on-as...(60/69)]-Converting Post...\n",
      "[the-primer-on-as...(61/69)]-Converting Post...\n",
      "[the-primer-on-as...(62/69)]-Converting Post...\n",
      "[the-primer-on-as...(63/69)]-Converting Post...\n",
      "[the-primer-on-as...(64/69)]-Converting Post...\n",
      "[the-primer-on-as...(65/69)]-Converting Post...\n",
      "[the-primer-on-as...(66/69)]-Converting Post...\n",
      "[the-primer-on-as...(67/69)]-Converting Post...\n",
      "[the-primer-on-as...(68/69)]-Converting Post...\n",
      "[the-primer-on-as...(69/69)]-Converting Post...\n",
      "[the-primer-on-as...(69/69)]-Post Successfully Downloaded!\n",
      "Execute Successfully!!!\n",
      "#https://github.com/ZhgChgLi/ZMediumToMarkdown\n",
      "#Thanks for using this tool.\n",
      "#If this is helpful, please help to star the repo or recommend it to your friends.\n"
     ]
    }
   ],
   "source": [
    "blog = \"https://mlwhiz.medium.com/the-primer-on-asyncio-that-i-wish-i-had-86629a5c580\"\n",
    "output = \"asyncio\"\n",
    "\n",
    "os.system(f\"rm -rf Output\")\n",
    "\n",
    "os.system(f\"ZMediumToMarkdown -p {blog}\")\n",
    "out_path = glob(\"Output/zmediumtomarkdown/*.md\")[0]\n",
    "images_list = glob(\"Output/zmediumtomarkdown/assets/*/*\")"
   ]
  },
  {
   "cell_type": "code",
   "execution_count": 142,
   "id": "1a4ee500",
   "metadata": {},
   "outputs": [
    {
     "name": "stdout",
     "output_type": "stream",
     "text": [
      "cp Output/zmediumtomarkdown/assets/86629a5c580/1*xHa7TwoWhgTKb2sdNEWsQw.jpeg /Users/ragarwal/personal/web/mlwhiz/static/images/asyncio/main.jpeg\n",
      "assets/86629a5c580/1*xHa7TwoWhgTKb2sdNEWsQw.jpeg /images/asyncio/1*xHa7TwoWhgTKb2sdNEWsQw.jpeg\n",
      "assets/86629a5c580/1*xlKco_IxY6f7jqq1uZw95A.png /images/asyncio/1*xlKco_IxY6f7jqq1uZw95A.png\n",
      "assets/86629a5c580/1*NV9uM9HJW5FqPAA8G4Shfg.png /images/asyncio/1*NV9uM9HJW5FqPAA8G4Shfg.png\n",
      "assets/86629a5c580/1*-YPeC8F2rFJ3kJ0xIvN_Pw.png /images/asyncio/1*-YPeC8F2rFJ3kJ0xIvN_Pw.png\n",
      "assets/86629a5c580/1*mRv5_7dO9pvk7cZXRIUpSQ.png /images/asyncio/1*mRv5_7dO9pvk7cZXRIUpSQ.png\n"
     ]
    },
    {
     "name": "stderr",
     "output_type": "stream",
     "text": [
      "mkdir: /Users/ragarwal/personal/web/mlwhiz/static/images/asyncio: File exists\n"
     ]
    }
   ],
   "source": [
    "f = open(f\"{out_path}\",\"r\")\n",
    "contents =f.read()\n",
    "out_path = glob(\"Output/zmediumtomarkdown/*.md\")[0]\n",
    "images_list = glob(\"Output/zmediumtomarkdown/assets/*/*\")\n",
    "\n",
    "f= open(f\"{out_path}\",\"r\")\n",
    "# In[3]:\n",
    "contents =f.read()\n",
    "\n",
    "# replace image links\n",
    "\n",
    "img_dir = \"/Users/ragarwal/personal/web/mlwhiz/static/images\"\n",
    "post_dir = \"/Users/ragarwal/personal/web/mlwhiz/content/blog\"\n",
    "os.system(f\"mkdir {img_dir}/{output}\")\n",
    "\n",
    "ext=None\n",
    "\n",
    "for i,img_name in enumerate(images_list):\n",
    "    if i==0:\n",
    "        os.system(f\"cp {img_name} {img_dir}/{output}/main.{img_name.split('.')[-1]}\")\n",
    "        ext = img_name.split('.')[-1]\n",
    "        print(f\"cp {img_name} {img_dir}/{output}/main.{img_name.split('.')[-1]}\")\n",
    "        \n",
    "    os.system(f\"cp {img_name} {img_dir}/{output}\")\n",
    "    contents = contents.replace(\"/\".join((img_name.split(\"/\")[-3:])), \n",
    "                     f\"/images/{output}/{img_name.split('/')[-1]}\"\n",
    "                    )\n",
    "    print(\"/\".join((img_name.split(\"/\")[-3:])), \n",
    "                     f\"/images/{output}/{img_name.split('/')[-1]}\"\n",
    "                    )"
   ]
  },
  {
   "cell_type": "code",
   "execution_count": 143,
   "id": "fd625e43",
   "metadata": {},
   "outputs": [],
   "source": [
    "title = contents.split(\"title:\")[1].split(\"\\n\")[0].strip()"
   ]
  },
  {
   "cell_type": "code",
   "execution_count": 144,
   "id": "cb2c4c32",
   "metadata": {},
   "outputs": [],
   "source": [
    "pattern = re.compile(r\"---\\n[\\s\\S]*\\n---\\n\")\n",
    "contents = contents.replace(pattern.findall(contents)[0],\"\")\n"
   ]
  },
  {
   "cell_type": "code",
   "execution_count": 145,
   "id": "d2f6da69",
   "metadata": {},
   "outputs": [],
   "source": [
    "date = datetime.today().strftime('%Y-%m-%d')"
   ]
  },
  {
   "cell_type": "code",
   "execution_count": 146,
   "id": "540bf6fd",
   "metadata": {},
   "outputs": [],
   "source": [
    "contents = contents[contents.find(\"####\"):]"
   ]
  },
  {
   "cell_type": "code",
   "execution_count": 147,
   "id": "dffa1e3b",
   "metadata": {},
   "outputs": [],
   "source": [
    "text = f'''\n",
    "---\n",
    "title:  {title}\n",
    "date:  {date}\n",
    "draft: false\n",
    "url : blog/{date.split(\"-\")[0]}/{date.split(\"-\")[1]}/{date.split(\"-\")[2]}/{output}/\n",
    "slug: {output}\n",
    "\n",
    "Keywords:\n",
    "- transformers from scratch\n",
    "- create own transformer\n",
    "- understanding transformers\n",
    "- layman transformers\n",
    "- layman transformers guide\n",
    "\n",
    "Tags:\n",
    "- Python\n",
    "- Transformers\n",
    "- Programming\n",
    "\n",
    "Categories:\n",
    "- Deep Learning\n",
    "- Natural Language Processing\n",
    "- Awesome Guides\n",
    "\n",
    "description:\n",
    "\n",
    "thumbnail : /images/{output}/main.{ext}\n",
    "image : /images/{output}/main.{ext}\n",
    "toc : false\n",
    "type : \"post\"\n",
    "---\n",
    "\n",
    "'''\n",
    "\n",
    "contents=text+contents"
   ]
  },
  {
   "cell_type": "code",
   "execution_count": 148,
   "id": "d459ffef",
   "metadata": {},
   "outputs": [],
   "source": [
    "contents = contents[:contents.find(\"_Converted\")]"
   ]
  },
  {
   "cell_type": "code",
   "execution_count": 149,
   "id": "418ecad2",
   "metadata": {},
   "outputs": [],
   "source": [
    "contents = contents.replace(\"\\n#### \", \"\\n&&&&&&&&&&&&&&&& \")"
   ]
  },
  {
   "cell_type": "code",
   "execution_count": 150,
   "id": "7fd61f91",
   "metadata": {
    "scrolled": false
   },
   "outputs": [],
   "source": [
    "contents = contents.replace(\"\\n### \", \"\\n\\n---\\n## \")"
   ]
  },
  {
   "cell_type": "code",
   "execution_count": 151,
   "id": "f0a8a281",
   "metadata": {},
   "outputs": [],
   "source": [
    "contents = contents.replace(\"\\n&&&&&&&&&&&&&&&& \", \"\\n### \")"
   ]
  },
  {
   "cell_type": "code",
   "execution_count": 152,
   "id": "b66640ec",
   "metadata": {},
   "outputs": [],
   "source": [
    "contents = contents.replace(\"[**blog**](https://mlwhiz.ck.page/a9b8bda70c)\",\"[blog](https://mlwhiz.ck.page/a9b8bda70c)\")\n",
    "contents = contents.replace(\"[**Medium**](http://mlwhiz.medium.com/)\",\"[Medium](http://mlwhiz.medium.com/)\")"
   ]
  },
  {
   "cell_type": "code",
   "execution_count": 153,
   "id": "d6d3a119",
   "metadata": {},
   "outputs": [],
   "source": [
    "regex = r'!\\[[^\\]]*\\]\\((.*?)\\s*(\"(?:.*[^\"])\")?\\s*\\)\\n\\n'"
   ]
  },
  {
   "cell_type": "code",
   "execution_count": 154,
   "id": "85f51858",
   "metadata": {},
   "outputs": [],
   "source": [
    "matches = re.finditer(regex, contents, re.MULTILINE)\n",
    "for m in matches:\n",
    "    str_new = m.group()\n",
    "    enclosed = str_new.split(\"[\")[1].split(\"]\")[0]\n",
    "    str_to_replace = str_new+enclosed+\"\\n\"\n",
    "    to_replace_with = str_new.strip()[:-1]+' \"' +enclosed+'\")\\n'\n",
    "    contents = contents.replace(str_to_replace,to_replace_with)"
   ]
  },
  {
   "cell_type": "code",
   "execution_count": 155,
   "id": "824ad7e5",
   "metadata": {},
   "outputs": [
    {
     "data": {
      "text/plain": [
       "<function TextIOWrapper.close()>"
      ]
     },
     "execution_count": 155,
     "metadata": {},
     "output_type": "execute_result"
    }
   ],
   "source": [
    "file1 = open(f\"{post_dir}/{date}-{output}.md\", \"w\")\n",
    "file1.write(contents)\n",
    "\n",
    "file1.close\n"
   ]
  },
  {
   "cell_type": "code",
   "execution_count": null,
   "id": "5b6ead9e",
   "metadata": {},
   "outputs": [],
   "source": []
  }
 ],
 "metadata": {
  "kernelspec": {
   "display_name": "Python 3 (ipykernel)",
   "language": "python",
   "name": "python3"
  },
  "language_info": {
   "codemirror_mode": {
    "name": "ipython",
    "version": 3
   },
   "file_extension": ".py",
   "mimetype": "text/x-python",
   "name": "python",
   "nbconvert_exporter": "python",
   "pygments_lexer": "ipython3",
   "version": "3.9.12"
  }
 },
 "nbformat": 4,
 "nbformat_minor": 5
}
