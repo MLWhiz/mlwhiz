{
 "cells": [
  {
   "cell_type": "code",
   "execution_count": 256,
   "id": "6fa4f42c",
   "metadata": {},
   "outputs": [],
   "source": [
    "import pandas as pd\n",
    "import re\n",
    "import argparse\n",
    "import requests\n",
    "from datetime import datetime\n",
    "import os\n"
   ]
  },
  {
   "cell_type": "code",
   "execution_count": 257,
   "id": "0eaa8bec",
   "metadata": {},
   "outputs": [],
   "source": [
    "from glob import glob"
   ]
  },
  {
   "cell_type": "code",
   "execution_count": 258,
   "id": "900696b3",
   "metadata": {},
   "outputs": [
    {
     "name": "stdout",
     "output_type": "stream",
     "text": [
      "#https://github.com/ZhgChgLi/ZMediumToMarkdown\n",
      "You have read and agree with the Disclaimer.\n",
      "[how-should-i-sta...]-Downloading Post...\n",
      "[how-should-i-sta...]-Formatting Data...\n",
      "[how-should-i-sta...(0/27)]-Converting Post...\n",
      "[how-should-i-sta...(1/27)]-Converting Post...\n",
      "[how-should-i-sta...(2/27)]-Converting Post...\n",
      "[how-should-i-sta...(3/27)]-Converting Post...\n",
      "[how-should-i-sta...(4/27)]-Converting Post...\n",
      "[how-should-i-sta...(5/27)]-Converting Post...\n",
      "[how-should-i-sta...(6/27)]-Converting Post...\n",
      "[how-should-i-sta...(7/27)]-Converting Post...\n",
      "[how-should-i-sta...(8/27)]-Converting Post...\n",
      "[how-should-i-sta...(9/27)]-Converting Post...\n",
      "[how-should-i-sta...(10/27)]-Converting Post...\n",
      "[how-should-i-sta...(11/27)]-Converting Post...\n",
      "[how-should-i-sta...(12/27)]-Converting Post...\n",
      "[how-should-i-sta...(13/27)]-Converting Post...\n",
      "[how-should-i-sta...(14/27)]-Converting Post...\n",
      "[how-should-i-sta...(15/27)]-Converting Post...\n",
      "[how-should-i-sta...(16/27)]-Converting Post...\n",
      "[how-should-i-sta...(17/27)]-Converting Post...\n",
      "[how-should-i-sta...(18/27)]-Converting Post...\n",
      "[how-should-i-sta...(19/27)]-Converting Post...\n",
      "[how-should-i-sta...(20/27)]-Converting Post...\n",
      "[how-should-i-sta...(21/27)]-Converting Post...\n",
      "[how-should-i-sta...(22/27)]-Converting Post...\n",
      "[how-should-i-sta...(23/27)]-Converting Post...\n",
      "[how-should-i-sta...(24/27)]-Converting Post...\n",
      "[how-should-i-sta...(25/27)]-Converting Post...\n",
      "[how-should-i-sta...(26/27)]-Converting Post...\n",
      "[how-should-i-sta...(27/27)]-Converting Post...\n",
      "[how-should-i-sta...(27/27)]-Post Successfully Downloaded!\n",
      "Execute Successfully!!!\n",
      "#https://github.com/ZhgChgLi/ZMediumToMarkdown\n",
      "#Thanks for using this tool.\n",
      "#If this is helpful, please help to star the repo or recommend it to your friends.\n"
     ]
    }
   ],
   "source": [
    "blog = \"https://mlwhiz.medium.com/how-should-i-start-reading-code-ed1683fbfe94\"\n",
    "output = \"start_reading_code\"\n",
    "\n",
    "os.system(f\"rm -rf Output\")\n",
    "\n",
    "os.system(f\"ZMediumToMarkdown -p {blog}\")\n",
    "out_path = glob(\"Output/zmediumtomarkdown/*.md\")[0]\n",
    "images_list = glob(\"Output/zmediumtomarkdown/assets/*/*\")"
   ]
  },
  {
   "cell_type": "code",
   "execution_count": 278,
   "id": "3a5a611f",
   "metadata": {},
   "outputs": [
    {
     "name": "stderr",
     "output_type": "stream",
     "text": [
      "mkdir: /Users/ragarwal/personal/web/mlwhiz/static/images/start_reading_code: File exists\n"
     ]
    },
    {
     "data": {
      "text/plain": [
       "256"
      ]
     },
     "execution_count": 278,
     "metadata": {},
     "output_type": "execute_result"
    }
   ],
   "source": [
    "f = open(f\"{out_path}\",\"r\")\n",
    "contents =f.read()\n",
    "out_path = glob(\"Output/zmediumtomarkdown/*.md\")[0]\n",
    "images_list = glob(\"Output/zmediumtomarkdown/assets/*/*\")\n",
    "\n",
    "f= open(f\"{out_path}\",\"r\")\n",
    "# In[3]:\n",
    "contents =f.read()\n",
    "\n",
    "# replace image links\n",
    "\n",
    "img_dir = \"/Users/ragarwal/personal/web/mlwhiz/static/images\"\n",
    "post_dir = \"/Users/ragarwal/personal/web/mlwhiz/content/blog\"\n",
    "os.system(f\"mkdir {img_dir}/{output}\")\n",
    "\n"
   ]
  },
  {
   "cell_type": "code",
   "execution_count": 279,
   "id": "51966e9a",
   "metadata": {},
   "outputs": [
    {
     "data": {
      "text/plain": [
       "['Output/zmediumtomarkdown/assets/ed1683fbfe94/0*g-kfBaikIpRr-Wis']"
      ]
     },
     "execution_count": 279,
     "metadata": {},
     "output_type": "execute_result"
    }
   ],
   "source": [
    "images_list"
   ]
  },
  {
   "cell_type": "code",
   "execution_count": 280,
   "id": "f2b060e1",
   "metadata": {},
   "outputs": [
    {
     "name": "stdout",
     "output_type": "stream",
     "text": [
      "cp Output/zmediumtomarkdown/assets/ed1683fbfe94/0*g-kfBaikIpRr-Wis /Users/ragarwal/personal/web/mlwhiz/static/images/start_reading_code/main.png\n",
      "assets/ed1683fbfe94/0*g-kfBaikIpRr-Wis /images/start_reading_code/0*g-kfBaikIpRr-Wis\n"
     ]
    }
   ],
   "source": [
    "ext=None\n",
    "\n",
    "for i,img_name in enumerate(images_list):\n",
    "    if i==0:\n",
    "        ext = img_name.split('.')[-1]\n",
    "        if len(ext)>=5: \n",
    "            ext = 'png'\n",
    "        os.system(f\"cp {img_name} {img_dir}/{output}/main.{ext}\")\n",
    "        print(f\"cp {img_name} {img_dir}/{output}/main.{ext}\")\n",
    "        \n",
    "    os.system(f\"cp {img_name} {img_dir}/{output}\")\n",
    "    contents = contents.replace(\"/\".join((img_name.split(\"/\")[-3:])), \n",
    "                     f\"/images/{output}/{img_name.split('/')[-1]}\"\n",
    "                    )\n",
    "    print(\"/\".join((img_name.split(\"/\")[-3:])), \n",
    "                     f\"/images/{output}/{img_name.split('/')[-1]}\"\n",
    "                    )"
   ]
  },
  {
   "cell_type": "code",
   "execution_count": 281,
   "id": "68852885",
   "metadata": {},
   "outputs": [],
   "source": [
    "title = contents.split(\"title:\")[1].split(\"\\n\")[0].strip()"
   ]
  },
  {
   "cell_type": "code",
   "execution_count": 282,
   "id": "ce8c0468",
   "metadata": {},
   "outputs": [
    {
     "data": {
      "text/plain": [
       "'---\\ntitle: How should I start Reading code?\\nauthor: Rahul Agarwal\\ndate: 2022-02-23T20:09:55.219+0000\\nlast_modified_at: 2022-05-02T07:31:31.528+0100\\ncategories: \\ntags: [data-science,programming,coding,python,machine-learning]\\ndescription: Or how to get better at hacking?\\nimage:\\n  path: /images/start_reading_code/0*g-kfBaikIpRr-Wis\\n---\\n'"
      ]
     },
     "execution_count": 282,
     "metadata": {},
     "output_type": "execute_result"
    }
   ],
   "source": [
    "pattern = re.compile(r\"---\\n[\\s\\S]*\\n---\\n\")\n",
    "\n",
    "pattern.findall(contents)[0]"
   ]
  },
  {
   "cell_type": "code",
   "execution_count": 283,
   "id": "628a50db",
   "metadata": {},
   "outputs": [],
   "source": [
    "contents = contents.replace(pattern.findall(contents)[0],\"\")"
   ]
  },
  {
   "cell_type": "code",
   "execution_count": 284,
   "id": "0c6651df",
   "metadata": {},
   "outputs": [],
   "source": [
    "date = datetime.today().strftime('%Y-%m-%d')"
   ]
  },
  {
   "cell_type": "code",
   "execution_count": 285,
   "id": "a3fdea00",
   "metadata": {},
   "outputs": [
    {
     "data": {
      "text/plain": [
       "'\\n### How should I start Reading code?\\n#### Or how to get better at hacking?\\n\\n\\n![Photo by [Jilbert Ebrahimi](https://unsplash.com/@jilburr?utm_source=medium&utm_medium=referral) on [Unsplash](https://unsplash.com?utm_source=medium&utm_medium=referral)](/images/start_reading_code/0*g-kfBaikIpRr-Wis)\\n\\nPhoto by [Jilbert Ebrahimi](https://unsplash.com/@jilburr?utm_source=medium&utm_medium=referral) on [Unsplash](https://unsplash.com?utm_source=medium&utm_medium=referral)\\n\\nReading code is a hard skill to inculcate\\\\. I just realized this just recently when I had to look at every sort of code be it C\\\\+ \\\\+, PHP, Java or Python\\\\. And I was really amazed how people around me were able to navigate such vast and diverse code bases\\\\. Did they really understand all these programming languages? Everyone around me was giving me code pointers as to where to look and where to change code\\\\.\\n\\nAnd then a particular thing hit me\\\\. It’s not that they really understand much about a particular coding language, it is just that they had gotten better at debugging these languages by reading the test plans\\\\.\\n\\nSo, how does one really get better at reading code?\\n\\n**_By debugging it_** \\\\. I mean really\\\\. I learned so much about PHP and C\\\\+ \\\\+ just by debugging it\\\\. And now I am really writing pretty long C\\\\+ \\\\+ Codes\\\\. Actually, No\\\\. I am copy pasting large C\\\\+ \\\\+ codes for my use case and making the required changes\\\\. But the thing to note is that I am not blocked anymore\\\\. And now I can understand most of the code I read as well making me atleast 2X the ML engineer I was before\\\\.\\n\\nSo, here is my step by step guide to get better at reading code\\\\.\\n#### 1\\\\. Start by finding out where the function you would like to focus on is defined in the code:\\n\\nThis is the first part\\\\. Most of the code you will ever see would be written in a modular way and would define some classes or functions which will be used somewhere else\\\\. I would ask you here keep it simple and just find a simple function and try to run in the codebase you are looking at\\\\. Most of the times you should be able to see it easily just by scanning for some keywords like `function` , `def` or params in some brackets\\\\.\\n#### 2\\\\. Find a way to run that function:\\n\\nThis is the most involved part you will have and it would be better if someone could help you in this part who knows about the language or the platform\\\\. But the thing is you would need minimal help\\\\. You just need to ask two questions:\\n- Where can I write the code for this language? Example: For Python we have Jupyter or VSCode or Pycharm\\\\.\\n- How do I run a function?\\n\\n\\nAnswer to these questions can easily be found on the internet or on your companies internal resources too\\\\.\\n#### 3\\\\. Start by understanding what the function does:\\n\\nFind out how you can print variables\\\\. For Python, it is simply `print` \\\\. For `C++` its `cout` , for PHP its `echo` and `printf` \\\\. Once you have that you can start by printing the variable at each step and see what happens\\\\. Better yet if the setup contains a debugger tool that can help you understand values of variables at each point\\\\.\\n#### 4\\\\. Try to make some changes to the code yourself and see if it runs:\\n\\nThis is use\\\\-case specific and here is where the most fun part starts\\\\. You write some logic to add your usecase to the existing code\\\\. You create some functions, delete some lines of code from existing codebase\\\\. Stack overflow and language manuals would be your friends here\\\\. Also you can check the source code of your own organization to understand how to do certain things with the language\\\\.\\n#### 5\\\\. Review, Launch and Profit\\n\\nThe final step once you change code is to get it reviewed, and put it in production\\\\. This is a great way to improve your coding skills as a person who understands this language would help you to follow coding standards and push you in the right direction\\\\.\\n### Continue Learning\\n\\nIf you want to learn more about [Python](https://amzn.to/2XPSiiG) , I would like to call out an excellent course on Learn [Intermediate level Python](https://bit.ly/2XshreA) from the University of Michigan\\\\. Do check it out\\\\.\\n\\nI am going to be writing more beginner\\\\-friendly posts in the future too\\\\. Follow me up at [**Medium**](http://mlwhiz.medium.com/) or Subscribe to my [**blog**](https://mlwhiz.ck.page/a9b8bda70c) to be informed about them\\\\. As always, I welcome feedback and constructive criticism and can be reached on Twitter [@mlwhiz](https://twitter.com/MLWhiz) \\\\.\\n\\nAlso, a small disclaimer — There might be some affiliate links in this post to relevant resources, as sharing knowledge is never a bad idea\\\\.\\n\\n\\n[![](https://miro.medium.com/max/1200/1*Ihl-t4w_lAH1zfqN-2THDw.jpeg)](https://mlwhiz.medium.com/membership)\\n\\n\\n\\n\\n_Converted [Medium Post](https://mlwhiz.medium.com/how-should-i-start-reading-code-ed1683fbfe94) by [ZMediumToMarkdown](https://github.com/ZhgChgLi/ZMediumToMarkdown)._\\n'"
      ]
     },
     "execution_count": 285,
     "metadata": {},
     "output_type": "execute_result"
    }
   ],
   "source": [
    "contents"
   ]
  },
  {
   "cell_type": "code",
   "execution_count": 286,
   "id": "14949004",
   "metadata": {},
   "outputs": [],
   "source": [
    "contents = contents[contents.find(\"####\"):]"
   ]
  },
  {
   "cell_type": "code",
   "execution_count": 287,
   "id": "cd80127f",
   "metadata": {},
   "outputs": [],
   "source": [
    "text = f'''\n",
    "---\n",
    "title:  {title}\n",
    "date:  {date}\n",
    "draft: false\n",
    "url : blog/{date.split(\"-\")[0]}/{date.split(\"-\")[1]}/{date.split(\"-\")[2]}/{output}/\n",
    "slug: {output}\n",
    "\n",
    "Keywords:\n",
    "- transformers from scratch\n",
    "- create own transformer\n",
    "- understanding transformers\n",
    "- layman transformers\n",
    "- layman transformers guide\n",
    "\n",
    "Tags:\n",
    "- Python\n",
    "- Transformers\n",
    "- Programming\n",
    "\n",
    "Categories:\n",
    "- Deep Learning\n",
    "- Natural Language Processing\n",
    "- Awesome Guides\n",
    "\n",
    "description:\n",
    "\n",
    "thumbnail : /images/{output}/main.{ext}\n",
    "image : /images/{output}/main.{ext}\n",
    "toc : false\n",
    "type : \"post\"\n",
    "---\n",
    "\n",
    "'''\n",
    "\n",
    "contents=text+contents"
   ]
  },
  {
   "cell_type": "code",
   "execution_count": 288,
   "id": "83928ece",
   "metadata": {},
   "outputs": [],
   "source": [
    "contents = contents[:contents.find(\"_Converted\")]"
   ]
  },
  {
   "cell_type": "code",
   "execution_count": 289,
   "id": "af41a510",
   "metadata": {},
   "outputs": [],
   "source": [
    "contents = contents.replace(\"\\n#### \", \"\\n&&&&&&&&&&&&&&&& \")"
   ]
  },
  {
   "cell_type": "code",
   "execution_count": 290,
   "id": "126517ae",
   "metadata": {
    "scrolled": false
   },
   "outputs": [],
   "source": [
    "contents = contents.replace(\"\\n### \", \"\\n\\n---\\n## \")"
   ]
  },
  {
   "cell_type": "code",
   "execution_count": 291,
   "id": "853fe896",
   "metadata": {},
   "outputs": [],
   "source": [
    "contents = contents.replace(\"\\n&&&&&&&&&&&&&&&& \", \"\\n### \")"
   ]
  },
  {
   "cell_type": "code",
   "execution_count": 292,
   "id": "1b965ff6",
   "metadata": {},
   "outputs": [],
   "source": [
    "contents = contents.replace(\"[**blog**](https://mlwhiz.ck.page/a9b8bda70c)\",\"[blog](https://mlwhiz.ck.page/a9b8bda70c)\")\n",
    "contents = contents.replace(\"[**Medium**](http://mlwhiz.medium.com/)\",\"[Medium](http://mlwhiz.medium.com/)\")"
   ]
  },
  {
   "cell_type": "code",
   "execution_count": 293,
   "id": "d5dde2db",
   "metadata": {},
   "outputs": [],
   "source": [
    "regex = r'!\\[[^\\]]*\\]\\((.*?)\\s*(\"(?:.*[^\"])\")?\\s*\\)\\n\\n'"
   ]
  },
  {
   "cell_type": "code",
   "execution_count": 294,
   "id": "5d88e749",
   "metadata": {},
   "outputs": [],
   "source": [
    "matches = re.finditer(regex, contents, re.MULTILINE)\n",
    "for m in matches:\n",
    "    str_new = m.group()\n",
    "    enclosed = str_new.split(\"[\")[1].split(\"]\")[0]\n",
    "    str_to_replace = str_new+enclosed+\"\\n\"\n",
    "    to_replace_with = str_new.strip()[:-1]+' \"' +enclosed+'\")\\n'\n",
    "    contents = contents.replace(str_to_replace,to_replace_with)"
   ]
  },
  {
   "cell_type": "code",
   "execution_count": 295,
   "id": "d94e7871",
   "metadata": {},
   "outputs": [],
   "source": [
    "file1 = open(f\"{post_dir}/{date}-{output}.md\", \"w\")\n",
    "file1.write(contents)\n",
    "\n",
    "file1.close()\n"
   ]
  },
  {
   "cell_type": "code",
   "execution_count": 296,
   "id": "807aeca2",
   "metadata": {},
   "outputs": [
    {
     "data": {
      "text/plain": [
       "'/Users/ragarwal/personal/web/mlwhiz/content/blog/2022-11-27-start_reading_code.md'"
      ]
     },
     "execution_count": 296,
     "metadata": {},
     "output_type": "execute_result"
    }
   ],
   "source": [
    "f\"{post_dir}/{date}-{output}.md\""
   ]
  },
  {
   "cell_type": "code",
   "execution_count": 276,
   "id": "84c81bad",
   "metadata": {},
   "outputs": [
    {
     "data": {
      "text/plain": [
       "'\\n---\\ntitle:  How should I start Reading code?\\ndate:  2022-11-27\\ndraft: false\\nurl : blog/2022/11/27/start_reading_code/\\nslug: start_reading_code\\n\\nKeywords:\\n- transformers from scratch\\n- create own transformer\\n- understanding transformers\\n- layman transformers\\n- layman transformers guide\\n\\nTags:\\n- Python\\n- Transformers\\n- Programming\\n\\nCategories:\\n- Deep Learning\\n- Natural Language Processing\\n- Awesome Guides\\n\\ndescription:\\n\\nthumbnail : /images/start_reading_code/main.png\\nimage : /images/start_reading_code/main.png\\ntoc : false\\ntype : \"post\"\\n---\\n\\n### Or how to get better at hacking?\\n\\n\\n![Photo by [Jilbert Ebrahimi](https://unsplash.com/@jilburr?utm_source=medium&utm_medium=referral) on [Unsplash](https://unsplash.com?utm_source=medium&utm_medium=referral)](/images/start_reading_code/0*g-kfBaikIpRr-Wis)\\n\\nPhoto by [Jilbert Ebrahimi](https://unsplash.com/@jilburr?utm_source=medium&utm_medium=referral) on [Unsplash](https://unsplash.com?utm_source=medium&utm_medium=referral)\\n\\nReading code is a hard skill to inculcate\\\\. I just realized this just recently when I had to look at every sort of code be it C\\\\+ \\\\+, PHP, Java or Python\\\\. And I was really amazed how people around me were able to navigate such vast and diverse code bases\\\\. Did they really understand all these programming languages? Everyone around me was giving me code pointers as to where to look and where to change code\\\\.\\n\\nAnd then a particular thing hit me\\\\. It’s not that they really understand much about a particular coding language, it is just that they had gotten better at debugging these languages by reading the test plans\\\\.\\n\\nSo, how does one really get better at reading code?\\n\\n**_By debugging it_** \\\\. I mean really\\\\. I learned so much about PHP and C\\\\+ \\\\+ just by debugging it\\\\. And now I am really writing pretty long C\\\\+ \\\\+ Codes\\\\. Actually, No\\\\. I am copy pasting large C\\\\+ \\\\+ codes for my use case and making the required changes\\\\. But the thing to note is that I am not blocked anymore\\\\. And now I can understand most of the code I read as well making me atleast 2X the ML engineer I was before\\\\.\\n\\nSo, here is my step by step guide to get better at reading code\\\\.\\n### 1\\\\. Start by finding out where the function you would like to focus on is defined in the code:\\n\\nThis is the first part\\\\. Most of the code you will ever see would be written in a modular way and would define some classes or functions which will be used somewhere else\\\\. I would ask you here keep it simple and just find a simple function and try to run in the codebase you are looking at\\\\. Most of the times you should be able to see it easily just by scanning for some keywords like `function` , `def` or params in some brackets\\\\.\\n### 2\\\\. Find a way to run that function:\\n\\nThis is the most involved part you will have and it would be better if someone could help you in this part who knows about the language or the platform\\\\. But the thing is you would need minimal help\\\\. You just need to ask two questions:\\n- Where can I write the code for this language? Example: For Python we have Jupyter or VSCode or Pycharm\\\\.\\n- How do I run a function?\\n\\n\\nAnswer to these questions can easily be found on the internet or on your companies internal resources too\\\\.\\n### 3\\\\. Start by understanding what the function does:\\n\\nFind out how you can print variables\\\\. For Python, it is simply `print` \\\\. For `C++` its `cout` , for PHP its `echo` and `printf` \\\\. Once you have that you can start by printing the variable at each step and see what happens\\\\. Better yet if the setup contains a debugger tool that can help you understand values of variables at each point\\\\.\\n### 4\\\\. Try to make some changes to the code yourself and see if it runs:\\n\\nThis is use\\\\-case specific and here is where the most fun part starts\\\\. You write some logic to add your usecase to the existing code\\\\. You create some functions, delete some lines of code from existing codebase\\\\. Stack overflow and language manuals would be your friends here\\\\. Also you can check the source code of your own organization to understand how to do certain things with the language\\\\.\\n### 5\\\\. Review, Launch and Profit\\n\\nThe final step once you change code is to get it reviewed, and put it in production\\\\. This is a great way to improve your coding skills as a person who understands this language would help you to follow coding standards and push you in the right direction\\\\.\\n\\n---\\n## Continue Learning\\n\\nIf you want to learn more about [Python](https://amzn.to/2XPSiiG) , I would like to call out an excellent course on Learn [Intermediate level Python](https://bit.ly/2XshreA) from the University of Michigan\\\\. Do check it out\\\\.\\n\\nI am going to be writing more beginner\\\\-friendly posts in the future too\\\\. Follow me up at [Medium](http://mlwhiz.medium.com/) or Subscribe to my [blog](https://mlwhiz.ck.page/a9b8bda70c) to be informed about them\\\\. As always, I welcome feedback and constructive criticism and can be reached on Twitter [@mlwhiz](https://twitter.com/MLWhiz) \\\\.\\n\\nAlso, a small disclaimer — There might be some affiliate links in this post to relevant resources, as sharing knowledge is never a bad idea\\\\.\\n\\n\\n[![](https://miro.medium.com/max/1200/1*Ihl-t4w_lAH1zfqN-2THDw.jpeg)](https://mlwhiz.medium.com/membership \"\")\\n\\n\\n'"
      ]
     },
     "execution_count": 276,
     "metadata": {},
     "output_type": "execute_result"
    }
   ],
   "source": [
    "contents"
   ]
  },
  {
   "cell_type": "code",
   "execution_count": null,
   "id": "bf75b534",
   "metadata": {},
   "outputs": [],
   "source": []
  }
 ],
 "metadata": {
  "kernelspec": {
   "display_name": "Python 3 (ipykernel)",
   "language": "python",
   "name": "python3"
  },
  "language_info": {
   "codemirror_mode": {
    "name": "ipython",
    "version": 3
   },
   "file_extension": ".py",
   "mimetype": "text/x-python",
   "name": "python",
   "nbconvert_exporter": "python",
   "pygments_lexer": "ipython3",
   "version": "3.9.12"
  }
 },
 "nbformat": 4,
 "nbformat_minor": 5
}
