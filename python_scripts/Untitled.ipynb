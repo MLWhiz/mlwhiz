{
 "cells": [
  {
   "cell_type": "code",
   "execution_count": 60,
   "metadata": {},
   "outputs": [],
   "source": [
    "import glob"
   ]
  },
  {
   "cell_type": "code",
   "execution_count": 68,
   "metadata": {},
   "outputs": [],
   "source": [
    "import pandas as pd"
   ]
  },
  {
   "cell_type": "code",
   "execution_count": 69,
   "metadata": {},
   "outputs": [],
   "source": [
    "data = pd.read_csv(\"topics_csv.csv\")\n"
   ]
  },
  {
   "cell_type": "code",
   "execution_count": 66,
   "metadata": {},
   "outputs": [
    {
     "data": {
      "text/html": [
       "<div>\n",
       "<style scoped>\n",
       "    .dataframe tbody tr th:only-of-type {\n",
       "        vertical-align: middle;\n",
       "    }\n",
       "\n",
       "    .dataframe tbody tr th {\n",
       "        vertical-align: top;\n",
       "    }\n",
       "\n",
       "    .dataframe thead th {\n",
       "        text-align: right;\n",
       "    }\n",
       "</style>\n",
       "<table border=\"1\" class=\"dataframe\">\n",
       "  <thead>\n",
       "    <tr style=\"text-align: right;\">\n",
       "      <th></th>\n",
       "      <th>Topic</th>\n",
       "      <th>Summary</th>\n",
       "      <th>pullquote</th>\n",
       "      <th>Icons</th>\n",
       "      <th>Image</th>\n",
       "      <th>filename</th>\n",
       "    </tr>\n",
       "  </thead>\n",
       "  <tbody>\n",
       "    <tr>\n",
       "      <th>0</th>\n",
       "      <td>natural-language-processing</td>\n",
       "      <td>Natural Language Processing is a vastly ineter...</td>\n",
       "      <td>yes</td>\n",
       "      <td>flaticon-translate</td>\n",
       "      <td>https://pixabay.com/photos/font-lead-set-book-...</td>\n",
       "      <td>nlp_bg.jpg</td>\n",
       "    </tr>\n",
       "    <tr>\n",
       "      <th>1</th>\n",
       "      <td>computer-vision</td>\n",
       "      <td>We all have seen Computer vision in action wit...</td>\n",
       "      <td>yes</td>\n",
       "      <td>flaticon-photograph</td>\n",
       "      <td>https://pixabay.com/photos/facade-window-facad...</td>\n",
       "      <td>cv_bg.jpg</td>\n",
       "    </tr>\n",
       "    <tr>\n",
       "      <th>2</th>\n",
       "      <td>programming</td>\n",
       "      <td>Programming is the most fundamental skill of i...</td>\n",
       "      <td>yes</td>\n",
       "      <td>flaticon-programming</td>\n",
       "      <td>https://pixabay.com/photos/technology-keyboard...</td>\n",
       "      <td>programming_bg.jpg</td>\n",
       "    </tr>\n",
       "    <tr>\n",
       "      <th>3</th>\n",
       "      <td>data-science</td>\n",
       "      <td>Data Science is an awesome culmination of Prog...</td>\n",
       "      <td>yes</td>\n",
       "      <td>flaticon-data-analysis</td>\n",
       "      <td>https://pixabay.com/photos/hexagons-honeycomb-...</td>\n",
       "      <td>ds_bg.jpg</td>\n",
       "    </tr>\n",
       "    <tr>\n",
       "      <th>4</th>\n",
       "      <td>learning-resources</td>\n",
       "      <td>Learning is a great journey in itself. And a m...</td>\n",
       "      <td>no</td>\n",
       "      <td>flaticon-book-1</td>\n",
       "      <td>https://pixabay.com/photos/books-library-read-...</td>\n",
       "      <td>lr_bg.jpg</td>\n",
       "    </tr>\n",
       "    <tr>\n",
       "      <th>5</th>\n",
       "      <td>deep-learning</td>\n",
       "      <td>Deep Learning is on everyone’s mind. Weather i...</td>\n",
       "      <td>yes</td>\n",
       "      <td>flaticon-search</td>\n",
       "      <td>https://pixabay.com/photos/font-lead-set-book-...</td>\n",
       "      <td>dl_bg.jpg</td>\n",
       "    </tr>\n",
       "  </tbody>\n",
       "</table>\n",
       "</div>"
      ],
      "text/plain": [
       "                         Topic  \\\n",
       "0  natural-language-processing   \n",
       "1              computer-vision   \n",
       "2                  programming   \n",
       "3                 data-science   \n",
       "4           learning-resources   \n",
       "5                deep-learning   \n",
       "\n",
       "                                             Summary pullquote  \\\n",
       "0  Natural Language Processing is a vastly ineter...       yes   \n",
       "1  We all have seen Computer vision in action wit...       yes   \n",
       "2  Programming is the most fundamental skill of i...       yes   \n",
       "3  Data Science is an awesome culmination of Prog...       yes   \n",
       "4  Learning is a great journey in itself. And a m...        no   \n",
       "5  Deep Learning is on everyone’s mind. Weather i...       yes   \n",
       "\n",
       "                    Icons                                              Image  \\\n",
       "0      flaticon-translate  https://pixabay.com/photos/font-lead-set-book-...   \n",
       "1     flaticon-photograph  https://pixabay.com/photos/facade-window-facad...   \n",
       "2    flaticon-programming  https://pixabay.com/photos/technology-keyboard...   \n",
       "3  flaticon-data-analysis  https://pixabay.com/photos/hexagons-honeycomb-...   \n",
       "4         flaticon-book-1  https://pixabay.com/photos/books-library-read-...   \n",
       "5         flaticon-search  https://pixabay.com/photos/font-lead-set-book-...   \n",
       "\n",
       "             filename  \n",
       "0          nlp_bg.jpg  \n",
       "1           cv_bg.jpg  \n",
       "2  programming_bg.jpg  \n",
       "3           ds_bg.jpg  \n",
       "4           lr_bg.jpg  \n",
       "5           dl_bg.jpg  "
      ]
     },
     "execution_count": 66,
     "metadata": {},
     "output_type": "execute_result"
    }
   ],
   "source": [
    "data"
   ]
  },
  {
   "cell_type": "code",
   "execution_count": 39,
   "metadata": {},
   "outputs": [
    {
     "data": {
      "text/plain": [
       "['../content/categories/deep-learning/_index.md']"
      ]
     },
     "execution_count": 39,
     "metadata": {},
     "output_type": "execute_result"
    }
   ],
   "source": [
    "glob.glob(\"../content/categories/deep-learning/*\")"
   ]
  },
  {
   "cell_type": "code",
   "execution_count": 40,
   "metadata": {},
   "outputs": [
    {
     "name": "stdout",
     "output_type": "stream",
     "text": [
      "---\r\n",
      "title: \"Deep Learning\"\r\n",
      "description: \"Deep Learning is study of Layers\"\r\n",
      "wikipedia: \"https://en.wikipedia.org/wiki/Bruce_Willis\"\r\n",
      "---\r\n"
     ]
    }
   ],
   "source": [
    "! cat '../content/categories/deep-learning/_index.md'"
   ]
  },
  {
   "cell_type": "code",
   "execution_count": 70,
   "metadata": {},
   "outputs": [
    {
     "name": "stdout",
     "output_type": "stream",
     "text": [
      "---\n",
      "title: Natural Language Processing\n",
      "summary: Natural Language Processing is a vastly inetersting field but it is inherently hard to learn because of ist vastness. I myself had a tough time understanding just where to start. It comprises of tasks such as Sequence Classification, Named Entity Recognition, Translation, Text to Speech, Question Answering, Language Modeling, Summarization etc. \n",
      "flag: yes\n",
      "image: nlp_bg.jpg\n",
      "icon: flaticon-translate\n",
      "---     \n",
      "         \n",
      "---\n",
      "title: Computer Vision\n",
      "summary: We all have seen Computer vision in action with various face recognition applications and COVID Masks. Computer Vision is the next Big Thing and something that is going to capture a large part of the next years so it makes a lot of sense to learn it.  CV comprises of tasks such as Image Classification, Detection, Instance Segmentation etc.\n",
      "flag: yes\n",
      "image: cv_bg.jpg\n",
      "icon: flaticon-photo\n",
      "---     \n",
      "         \n",
      "---\n",
      "title: Programming\n",
      "summary: Programming is the most fundamental skill of it all as in you need programming to be able to really do anything worth a mention. And that is why it is asked at a lot of technical interviews in form of Data Structures questions. \n",
      "flag: yes\n",
      "image: programming_bg.jpg\n",
      "icon: flaticon-programming\n",
      "---     \n",
      "         \n",
      "---\n",
      "title: Data Science\n",
      "summary: Data Science is an awesome culmination of Programming and Statistics. Right now, it encompasses Machine Learning and even Artificial intelligence. The most common problems in here to solve are Classification, Regression, Recommender Systems, Anomaly detection, etc.\n",
      "flag: yes\n",
      "image: ds_bg.jpg\n",
      "icon: flaticon-data-analysis\n",
      "---     \n",
      "         \n",
      "---\n",
      "title: Learning Resources\n",
      "summary: Learning is a great journey in itself. And a mighty hard one at that. So much to learn and so many paths to choose that it leaves us confused at times. I get many questions regarding how I learned myself? Or which books I find good? Here are my recommendations\n",
      "flag: no\n",
      "image: lr_bg.jpg\n",
      "icon: flaticon-book-1\n",
      "---     \n",
      "         \n",
      "---\n",
      "title: Deep Learning\n",
      "summary: Deep Learning is on everyone’s mind. Weather it be computer vision or Natural Language Processing both are powered by this awesome field.\n",
      "flag: yes\n",
      "image: dl_bg.jpg\n",
      "icon: flaticon-search\n",
      "---     \n",
      "         \n"
     ]
    }
   ],
   "source": [
    "import os\n",
    "for i,row in data.iterrows():\n",
    "    os.system(f\"mkdir ../content/categories/{row['Topic']}\")\n",
    "    content = f'''---\n",
    "title: {\" \".join(row['Topic'].split(\"-\")).title()}\n",
    "summary: {row['Summary']}\n",
    "flag: {row['pullquote']}\n",
    "image: {row['filename']}\n",
    "icon: {row['Icons']}\n",
    "---     \n",
    "         '''\n",
    "    with open(f\"../content/categories/{row['Topic']}/_index.md\",'w') as outfile:\n",
    "        print(content)\n",
    "        outfile.write(content)"
   ]
  },
  {
   "cell_type": "code",
   "execution_count": null,
   "metadata": {},
   "outputs": [],
   "source": []
  }
 ],
 "metadata": {
  "kernelspec": {
   "display_name": "pyt",
   "language": "python",
   "name": "pyt"
  },
  "language_info": {
   "codemirror_mode": {
    "name": "ipython",
    "version": 3
   },
   "file_extension": ".py",
   "mimetype": "text/x-python",
   "name": "python",
   "nbconvert_exporter": "python",
   "pygments_lexer": "ipython3",
   "version": "3.7.6"
  }
 },
 "nbformat": 4,
 "nbformat_minor": 4
}
