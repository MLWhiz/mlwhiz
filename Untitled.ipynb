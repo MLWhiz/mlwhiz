{
 "cells": [
  {
   "cell_type": "code",
   "execution_count": 3,
   "id": "e5227a3b",
   "metadata": {},
   "outputs": [
    {
     "name": "stdout",
     "output_type": "stream",
     "text": [
      "Collecting easyocr\n",
      "  Downloading easyocr-1.7.0-py3-none-any.whl (2.9 MB)\n",
      "\u001b[2K     \u001b[90m━━━━━━━━━━━━━━━━━━━━━━━━━━━━━━━━━━━━━━━━\u001b[0m \u001b[32m2.9/2.9 MB\u001b[0m \u001b[31m3.7 MB/s\u001b[0m eta \u001b[36m0:00:00\u001b[0m00:01\u001b[0m00:01\u001b[0m\n",
      "\u001b[?25hCollecting pyclipper\n",
      "  Downloading pyclipper-1.3.0.post4-cp39-cp39-macosx_10_9_x86_64.whl (134 kB)\n",
      "\u001b[2K     \u001b[90m━━━━━━━━━━━━━━━━━━━━━━━━━━━━━━━━━━━━━\u001b[0m \u001b[32m134.5/134.5 kB\u001b[0m \u001b[31m810.4 kB/s\u001b[0m eta \u001b[36m0:00:00\u001b[0m00:01\u001b[0m\n",
      "\u001b[?25hRequirement already satisfied: Pillow in /Users/ragarwal/opt/anaconda3/lib/python3.9/site-packages (from easyocr) (9.5.0)\n",
      "Requirement already satisfied: PyYAML in /Users/ragarwal/opt/anaconda3/lib/python3.9/site-packages (from easyocr) (5.4.1)\n",
      "Collecting ninja\n",
      "  Downloading ninja-1.11.1-py2.py3-none-macosx_10_9_universal2.macosx_10_9_x86_64.macosx_11_0_arm64.macosx_11_0_universal2.whl (270 kB)\n",
      "\u001b[2K     \u001b[90m━━━━━━━━━━━━━━━━━━━━━━━━━━━━━━━━━━━━━━━\u001b[0m \u001b[32m270.7/270.7 kB\u001b[0m \u001b[31m7.4 MB/s\u001b[0m eta \u001b[36m0:00:00\u001b[0m\n",
      "\u001b[?25hCollecting torchvision>=0.5\n",
      "  Downloading torchvision-0.15.2-cp39-cp39-macosx_10_9_x86_64.whl (1.5 MB)\n",
      "\u001b[2K     \u001b[90m━━━━━━━━━━━━━━━━━━━━━━━━━━━━━━━━━━━━━━━━\u001b[0m \u001b[32m1.5/1.5 MB\u001b[0m \u001b[31m7.5 MB/s\u001b[0m eta \u001b[36m0:00:00\u001b[0m00:01\u001b[0m00:01\u001b[0m\n",
      "\u001b[?25hRequirement already satisfied: scipy in /Users/ragarwal/opt/anaconda3/lib/python3.9/site-packages (from easyocr) (1.7.3)\n",
      "Collecting torch\n",
      "  Downloading torch-2.0.1-cp39-none-macosx_10_9_x86_64.whl (143.4 MB)\n",
      "\u001b[2K     \u001b[90m━━━━━━━━━━━━━━━━━━━━━━━━━━━━━━━━━━━━━━━\u001b[0m \u001b[32m143.4/143.4 MB\u001b[0m \u001b[31m9.3 MB/s\u001b[0m eta \u001b[36m0:00:00\u001b[0m00:01\u001b[0m00:01\u001b[0m\n",
      "\u001b[?25hCollecting python-bidi\n",
      "  Downloading python_bidi-0.4.2-py2.py3-none-any.whl (30 kB)\n",
      "Requirement already satisfied: numpy in /Users/ragarwal/opt/anaconda3/lib/python3.9/site-packages (from easyocr) (1.21.5)\n",
      "Collecting opencv-python-headless\n",
      "  Downloading opencv_python_headless-4.8.0.74-cp37-abi3-macosx_10_16_x86_64.whl (54.6 MB)\n",
      "\u001b[2K     \u001b[90m━━━━━━━━━━━━━━━━━━━━━━━━━━━━━━━━━━━━━━━━\u001b[0m \u001b[32m54.6/54.6 MB\u001b[0m \u001b[31m10.1 MB/s\u001b[0m eta \u001b[36m0:00:00\u001b[0m00:01\u001b[0m00:01\u001b[0m\n",
      "\u001b[?25hRequirement already satisfied: scikit-image in /Users/ragarwal/opt/anaconda3/lib/python3.9/site-packages (from easyocr) (0.19.2)\n",
      "Collecting Shapely\n",
      "  Downloading shapely-2.0.1-cp39-cp39-macosx_10_9_x86_64.whl (1.4 MB)\n",
      "\u001b[2K     \u001b[90m━━━━━━━━━━━━━━━━━━━━━━━━━━━━━━━━━━━━━━━━\u001b[0m \u001b[32m1.4/1.4 MB\u001b[0m \u001b[31m26.9 MB/s\u001b[0m eta \u001b[36m0:00:00\u001b[0ma \u001b[36m0:00:01\u001b[0m\n",
      "\u001b[?25hRequirement already satisfied: requests in /Users/ragarwal/opt/anaconda3/lib/python3.9/site-packages (from torchvision>=0.5->easyocr) (2.27.1)\n",
      "Requirement already satisfied: typing-extensions in /Users/ragarwal/opt/anaconda3/lib/python3.9/site-packages (from torch->easyocr) (4.5.0)\n",
      "Requirement already satisfied: jinja2 in /Users/ragarwal/opt/anaconda3/lib/python3.9/site-packages (from torch->easyocr) (2.11.3)\n",
      "Requirement already satisfied: sympy in /Users/ragarwal/opt/anaconda3/lib/python3.9/site-packages (from torch->easyocr) (1.10.1)\n",
      "Requirement already satisfied: networkx in /Users/ragarwal/opt/anaconda3/lib/python3.9/site-packages (from torch->easyocr) (2.7.1)\n",
      "Requirement already satisfied: filelock in /Users/ragarwal/opt/anaconda3/lib/python3.9/site-packages (from torch->easyocr) (3.12.0)\n",
      "Requirement already satisfied: six in /Users/ragarwal/opt/anaconda3/lib/python3.9/site-packages (from python-bidi->easyocr) (1.16.0)\n",
      "Requirement already satisfied: imageio>=2.4.1 in /Users/ragarwal/opt/anaconda3/lib/python3.9/site-packages (from scikit-image->easyocr) (2.9.0)\n",
      "Requirement already satisfied: packaging>=20.0 in /Users/ragarwal/opt/anaconda3/lib/python3.9/site-packages (from scikit-image->easyocr) (21.3)\n",
      "Requirement already satisfied: PyWavelets>=1.1.1 in /Users/ragarwal/opt/anaconda3/lib/python3.9/site-packages (from scikit-image->easyocr) (1.3.0)\n",
      "Requirement already satisfied: tifffile>=2019.7.26 in /Users/ragarwal/opt/anaconda3/lib/python3.9/site-packages (from scikit-image->easyocr) (2021.7.2)\n",
      "Requirement already satisfied: pyparsing!=3.0.5,>=2.0.2 in /Users/ragarwal/opt/anaconda3/lib/python3.9/site-packages (from packaging>=20.0->scikit-image->easyocr) (3.0.4)\n",
      "Requirement already satisfied: MarkupSafe>=0.23 in /Users/ragarwal/opt/anaconda3/lib/python3.9/site-packages (from jinja2->torch->easyocr) (2.0.1)\n",
      "Requirement already satisfied: urllib3<1.27,>=1.21.1 in /Users/ragarwal/opt/anaconda3/lib/python3.9/site-packages (from requests->torchvision>=0.5->easyocr) (1.26.9)\n",
      "Requirement already satisfied: charset-normalizer~=2.0.0 in /Users/ragarwal/opt/anaconda3/lib/python3.9/site-packages (from requests->torchvision>=0.5->easyocr) (2.0.4)\n",
      "Requirement already satisfied: certifi>=2017.4.17 in /Users/ragarwal/opt/anaconda3/lib/python3.9/site-packages (from requests->torchvision>=0.5->easyocr) (2021.10.8)\n",
      "Requirement already satisfied: idna<4,>=2.5 in /Users/ragarwal/opt/anaconda3/lib/python3.9/site-packages (from requests->torchvision>=0.5->easyocr) (3.3)\n",
      "Requirement already satisfied: mpmath>=0.19 in /Users/ragarwal/opt/anaconda3/lib/python3.9/site-packages (from sympy->torch->easyocr) (1.2.1)\n",
      "Installing collected packages: pyclipper, ninja, Shapely, python-bidi, opencv-python-headless, torch, torchvision, easyocr\n",
      "Successfully installed Shapely-2.0.1 easyocr-1.7.0 ninja-1.11.1 opencv-python-headless-4.8.0.74 pyclipper-1.3.0.post4 python-bidi-0.4.2 torch-2.0.1 torchvision-0.15.2\n",
      "\n",
      "\u001b[1m[\u001b[0m\u001b[34;49mnotice\u001b[0m\u001b[1;39;49m]\u001b[0m\u001b[39;49m A new release of pip is available: \u001b[0m\u001b[31;49m23.0.1\u001b[0m\u001b[39;49m -> \u001b[0m\u001b[32;49m23.1.2\u001b[0m\n",
      "\u001b[1m[\u001b[0m\u001b[34;49mnotice\u001b[0m\u001b[1;39;49m]\u001b[0m\u001b[39;49m To update, run: \u001b[0m\u001b[32;49mpip install --upgrade pip\u001b[0m\n"
     ]
    }
   ],
   "source": [
    "!pip install easyocr"
   ]
  },
  {
   "cell_type": "code",
   "execution_count": 1,
   "id": "d31b487c",
   "metadata": {},
   "outputs": [
    {
     "name": "stderr",
     "output_type": "stream",
     "text": [
      "Downloading detection model, please wait. This may take several minutes depending upon your network connection.\n"
     ]
    },
    {
     "name": "stdout",
     "output_type": "stream",
     "text": [
      "Progress: |██████████████████████████████████████████████████| 100.0% Complete"
     ]
    },
    {
     "name": "stderr",
     "output_type": "stream",
     "text": [
      "Downloading recognition model, please wait. This may take several minutes depending upon your network connection.\n"
     ]
    },
    {
     "name": "stdout",
     "output_type": "stream",
     "text": [
      "Progress: |██████████████████████████████████████████████████| 100.0% Complete"
     ]
    },
    {
     "ename": "NameError",
     "evalue": "name 'result' is not defined",
     "output_type": "error",
     "traceback": [
      "\u001b[0;31m---------------------------------------------------------------------------\u001b[0m",
      "\u001b[0;31mNameError\u001b[0m                                 Traceback (most recent call last)",
      "Input \u001b[0;32mIn [1]\u001b[0m, in \u001b[0;36m<cell line: 4>\u001b[0;34m()\u001b[0m\n\u001b[1;32m      2\u001b[0m reader \u001b[38;5;241m=\u001b[39m easyocr\u001b[38;5;241m.\u001b[39mReader([\u001b[38;5;124m\"\u001b[39m\u001b[38;5;124men\u001b[39m\u001b[38;5;124m\"\u001b[39m])\n\u001b[1;32m      3\u001b[0m Result \u001b[38;5;241m=\u001b[39m reader\u001b[38;5;241m.\u001b[39mreadtext(\u001b[38;5;124m\"\u001b[39m\u001b[38;5;124mimageto.png\u001b[39m\u001b[38;5;124m\"\u001b[39m)\n\u001b[0;32m----> 4\u001b[0m \u001b[38;5;28mprint\u001b[39m(\u001b[43mresult\u001b[49m)\n",
      "\u001b[0;31mNameError\u001b[0m: name 'result' is not defined"
     ]
    }
   ],
   "source": [
    "import easyocr\n",
    "reader = easyocr.Reader([\"en\"])\n",
    "Result = reader.readtext(\"imageto.png\")\n",
    "print(Result)"
   ]
  },
  {
   "cell_type": "code",
   "execution_count": 2,
   "id": "d6e57976",
   "metadata": {},
   "outputs": [
    {
     "name": "stdout",
     "output_type": "stream",
     "text": [
      "[([[279, 475], [645, 475], [645, 607], [279, 607]], 'BBB', 0.6635690784474912), ([[160.48839627167723, 25.158330546250017], [685.5272580509331, -21.532642903664822], [685.5116037283228, 143.84166945374997], [161.47274194906683, 191.53264290366482]], 'p GORITHMIC', 0.28444160911488153), ([[669.3463949601736, 124.01943533091702], [738.4327356252172, 81.00851511948146], [873.6536050398264, 313.980564669083], [805.5672643747828, 356.99148488051856]], '1', 0.2929312280905414), ([[132.3625516814498, 159.02260284708439], [201.13559501801768, 195.51517696376254], [121.63744831855023, 345.9773971529156], [52.86440498198232, 309.48482303623746]], '4', 0.7195060720559923), ([[784.6922064249738, 480.24481107487793], [866.4824362592876, 526.996552626947], [736.3077935750262, 748.7551889251221], [654.5175637407124, 702.003447373053]], '8', 0.16079341778061362), ([[80.11324669488432, 522.0437916183316], [142.55450012780886, 491.0170979294963], [208.8867533051157, 640.9562083816684], [146.44549987219114, 670.9829020705038]], 'J', 0.0632110529150518), ([[185.9854068872376, 632.0271087913429], [693.7641573544969, 701.015640977416], [661.0145931127624, 856.9728912086571], [153.23584264550306, 786.984359022584]], 'ALGORITHMIC', 0.5519257158180921)]\n"
     ]
    }
   ],
   "source": [
    "print(Result)"
   ]
  },
  {
   "cell_type": "code",
   "execution_count": 1,
   "id": "724b06d9",
   "metadata": {},
   "outputs": [],
   "source": [
    "import requests"
   ]
  },
  {
   "cell_type": "code",
   "execution_count": 2,
   "id": "094b5638",
   "metadata": {},
   "outputs": [
    {
     "ename": "TesseractNotFoundError",
     "evalue": "tesseract is not installed or it's not in your PATH. See README file for more information.",
     "output_type": "error",
     "traceback": [
      "\u001b[0;31m---------------------------------------------------------------------------\u001b[0m",
      "\u001b[0;31mFileNotFoundError\u001b[0m                         Traceback (most recent call last)",
      "File \u001b[0;32m~/opt/anaconda3/lib/python3.9/site-packages/pytesseract/pytesseract.py:255\u001b[0m, in \u001b[0;36mrun_tesseract\u001b[0;34m(input_filename, output_filename_base, extension, lang, config, nice, timeout)\u001b[0m\n\u001b[1;32m    254\u001b[0m \u001b[38;5;28;01mtry\u001b[39;00m:\n\u001b[0;32m--> 255\u001b[0m     proc \u001b[38;5;241m=\u001b[39m \u001b[43msubprocess\u001b[49m\u001b[38;5;241;43m.\u001b[39;49m\u001b[43mPopen\u001b[49m\u001b[43m(\u001b[49m\u001b[43mcmd_args\u001b[49m\u001b[43m,\u001b[49m\u001b[43m \u001b[49m\u001b[38;5;241;43m*\u001b[39;49m\u001b[38;5;241;43m*\u001b[39;49m\u001b[43msubprocess_args\u001b[49m\u001b[43m(\u001b[49m\u001b[43m)\u001b[49m\u001b[43m)\u001b[49m\n\u001b[1;32m    256\u001b[0m \u001b[38;5;28;01mexcept\u001b[39;00m \u001b[38;5;167;01mOSError\u001b[39;00m \u001b[38;5;28;01mas\u001b[39;00m e:\n",
      "File \u001b[0;32m~/opt/anaconda3/lib/python3.9/subprocess.py:951\u001b[0m, in \u001b[0;36mPopen.__init__\u001b[0;34m(self, args, bufsize, executable, stdin, stdout, stderr, preexec_fn, close_fds, shell, cwd, env, universal_newlines, startupinfo, creationflags, restore_signals, start_new_session, pass_fds, user, group, extra_groups, encoding, errors, text, umask)\u001b[0m\n\u001b[1;32m    948\u001b[0m             \u001b[38;5;28mself\u001b[39m\u001b[38;5;241m.\u001b[39mstderr \u001b[38;5;241m=\u001b[39m io\u001b[38;5;241m.\u001b[39mTextIOWrapper(\u001b[38;5;28mself\u001b[39m\u001b[38;5;241m.\u001b[39mstderr,\n\u001b[1;32m    949\u001b[0m                     encoding\u001b[38;5;241m=\u001b[39mencoding, errors\u001b[38;5;241m=\u001b[39merrors)\n\u001b[0;32m--> 951\u001b[0m     \u001b[38;5;28;43mself\u001b[39;49m\u001b[38;5;241;43m.\u001b[39;49m\u001b[43m_execute_child\u001b[49m\u001b[43m(\u001b[49m\u001b[43margs\u001b[49m\u001b[43m,\u001b[49m\u001b[43m \u001b[49m\u001b[43mexecutable\u001b[49m\u001b[43m,\u001b[49m\u001b[43m \u001b[49m\u001b[43mpreexec_fn\u001b[49m\u001b[43m,\u001b[49m\u001b[43m \u001b[49m\u001b[43mclose_fds\u001b[49m\u001b[43m,\u001b[49m\n\u001b[1;32m    952\u001b[0m \u001b[43m                        \u001b[49m\u001b[43mpass_fds\u001b[49m\u001b[43m,\u001b[49m\u001b[43m \u001b[49m\u001b[43mcwd\u001b[49m\u001b[43m,\u001b[49m\u001b[43m \u001b[49m\u001b[43menv\u001b[49m\u001b[43m,\u001b[49m\n\u001b[1;32m    953\u001b[0m \u001b[43m                        \u001b[49m\u001b[43mstartupinfo\u001b[49m\u001b[43m,\u001b[49m\u001b[43m \u001b[49m\u001b[43mcreationflags\u001b[49m\u001b[43m,\u001b[49m\u001b[43m \u001b[49m\u001b[43mshell\u001b[49m\u001b[43m,\u001b[49m\n\u001b[1;32m    954\u001b[0m \u001b[43m                        \u001b[49m\u001b[43mp2cread\u001b[49m\u001b[43m,\u001b[49m\u001b[43m \u001b[49m\u001b[43mp2cwrite\u001b[49m\u001b[43m,\u001b[49m\n\u001b[1;32m    955\u001b[0m \u001b[43m                        \u001b[49m\u001b[43mc2pread\u001b[49m\u001b[43m,\u001b[49m\u001b[43m \u001b[49m\u001b[43mc2pwrite\u001b[49m\u001b[43m,\u001b[49m\n\u001b[1;32m    956\u001b[0m \u001b[43m                        \u001b[49m\u001b[43merrread\u001b[49m\u001b[43m,\u001b[49m\u001b[43m \u001b[49m\u001b[43merrwrite\u001b[49m\u001b[43m,\u001b[49m\n\u001b[1;32m    957\u001b[0m \u001b[43m                        \u001b[49m\u001b[43mrestore_signals\u001b[49m\u001b[43m,\u001b[49m\n\u001b[1;32m    958\u001b[0m \u001b[43m                        \u001b[49m\u001b[43mgid\u001b[49m\u001b[43m,\u001b[49m\u001b[43m \u001b[49m\u001b[43mgids\u001b[49m\u001b[43m,\u001b[49m\u001b[43m \u001b[49m\u001b[43muid\u001b[49m\u001b[43m,\u001b[49m\u001b[43m \u001b[49m\u001b[43mumask\u001b[49m\u001b[43m,\u001b[49m\n\u001b[1;32m    959\u001b[0m \u001b[43m                        \u001b[49m\u001b[43mstart_new_session\u001b[49m\u001b[43m)\u001b[49m\n\u001b[1;32m    960\u001b[0m \u001b[38;5;28;01mexcept\u001b[39;00m:\n\u001b[1;32m    961\u001b[0m     \u001b[38;5;66;03m# Cleanup if the child failed starting.\u001b[39;00m\n",
      "File \u001b[0;32m~/opt/anaconda3/lib/python3.9/subprocess.py:1821\u001b[0m, in \u001b[0;36mPopen._execute_child\u001b[0;34m(self, args, executable, preexec_fn, close_fds, pass_fds, cwd, env, startupinfo, creationflags, shell, p2cread, p2cwrite, c2pread, c2pwrite, errread, errwrite, restore_signals, gid, gids, uid, umask, start_new_session)\u001b[0m\n\u001b[1;32m   1820\u001b[0m         err_msg \u001b[38;5;241m=\u001b[39m os\u001b[38;5;241m.\u001b[39mstrerror(errno_num)\n\u001b[0;32m-> 1821\u001b[0m     \u001b[38;5;28;01mraise\u001b[39;00m child_exception_type(errno_num, err_msg, err_filename)\n\u001b[1;32m   1822\u001b[0m \u001b[38;5;28;01mraise\u001b[39;00m child_exception_type(err_msg)\n",
      "\u001b[0;31mFileNotFoundError\u001b[0m: [Errno 2] No such file or directory: 'tesseract'",
      "\nDuring handling of the above exception, another exception occurred:\n",
      "\u001b[0;31mTesseractNotFoundError\u001b[0m                    Traceback (most recent call last)",
      "Input \u001b[0;32mIn [2]\u001b[0m, in \u001b[0;36m<cell line: 12>\u001b[0;34m()\u001b[0m\n\u001b[1;32m      9\u001b[0m img \u001b[38;5;241m=\u001b[39m Image\u001b[38;5;241m.\u001b[39mopen(path_to_image)\n\u001b[1;32m     11\u001b[0m \u001b[38;5;66;03m#Extract text from image\u001b[39;00m\n\u001b[0;32m---> 12\u001b[0m text \u001b[38;5;241m=\u001b[39m \u001b[43mpytesseract\u001b[49m\u001b[38;5;241;43m.\u001b[39;49m\u001b[43mimage_to_string\u001b[49m\u001b[43m(\u001b[49m\u001b[43mimg\u001b[49m\u001b[43m)\u001b[49m\n\u001b[1;32m     14\u001b[0m \u001b[38;5;28mprint\u001b[39m(text)\n",
      "File \u001b[0;32m~/opt/anaconda3/lib/python3.9/site-packages/pytesseract/pytesseract.py:423\u001b[0m, in \u001b[0;36mimage_to_string\u001b[0;34m(image, lang, config, nice, output_type, timeout)\u001b[0m\n\u001b[1;32m    418\u001b[0m \u001b[38;5;124;03m\"\"\"\u001b[39;00m\n\u001b[1;32m    419\u001b[0m \u001b[38;5;124;03mReturns the result of a Tesseract OCR run on the provided image to string\u001b[39;00m\n\u001b[1;32m    420\u001b[0m \u001b[38;5;124;03m\"\"\"\u001b[39;00m\n\u001b[1;32m    421\u001b[0m args \u001b[38;5;241m=\u001b[39m [image, \u001b[38;5;124m'\u001b[39m\u001b[38;5;124mtxt\u001b[39m\u001b[38;5;124m'\u001b[39m, lang, config, nice, timeout]\n\u001b[0;32m--> 423\u001b[0m \u001b[38;5;28;01mreturn\u001b[39;00m \u001b[43m{\u001b[49m\n\u001b[1;32m    424\u001b[0m \u001b[43m    \u001b[49m\u001b[43mOutput\u001b[49m\u001b[38;5;241;43m.\u001b[39;49m\u001b[43mBYTES\u001b[49m\u001b[43m:\u001b[49m\u001b[43m \u001b[49m\u001b[38;5;28;43;01mlambda\u001b[39;49;00m\u001b[43m:\u001b[49m\u001b[43m \u001b[49m\u001b[43mrun_and_get_output\u001b[49m\u001b[43m(\u001b[49m\u001b[38;5;241;43m*\u001b[39;49m\u001b[43m(\u001b[49m\u001b[43margs\u001b[49m\u001b[43m \u001b[49m\u001b[38;5;241;43m+\u001b[39;49m\u001b[43m \u001b[49m\u001b[43m[\u001b[49m\u001b[38;5;28;43;01mTrue\u001b[39;49;00m\u001b[43m]\u001b[49m\u001b[43m)\u001b[49m\u001b[43m)\u001b[49m\u001b[43m,\u001b[49m\n\u001b[1;32m    425\u001b[0m \u001b[43m    \u001b[49m\u001b[43mOutput\u001b[49m\u001b[38;5;241;43m.\u001b[39;49m\u001b[43mDICT\u001b[49m\u001b[43m:\u001b[49m\u001b[43m \u001b[49m\u001b[38;5;28;43;01mlambda\u001b[39;49;00m\u001b[43m:\u001b[49m\u001b[43m \u001b[49m\u001b[43m{\u001b[49m\u001b[38;5;124;43m'\u001b[39;49m\u001b[38;5;124;43mtext\u001b[39;49m\u001b[38;5;124;43m'\u001b[39;49m\u001b[43m:\u001b[49m\u001b[43m \u001b[49m\u001b[43mrun_and_get_output\u001b[49m\u001b[43m(\u001b[49m\u001b[38;5;241;43m*\u001b[39;49m\u001b[43margs\u001b[49m\u001b[43m)\u001b[49m\u001b[43m}\u001b[49m\u001b[43m,\u001b[49m\n\u001b[1;32m    426\u001b[0m \u001b[43m    \u001b[49m\u001b[43mOutput\u001b[49m\u001b[38;5;241;43m.\u001b[39;49m\u001b[43mSTRING\u001b[49m\u001b[43m:\u001b[49m\u001b[43m \u001b[49m\u001b[38;5;28;43;01mlambda\u001b[39;49;00m\u001b[43m:\u001b[49m\u001b[43m \u001b[49m\u001b[43mrun_and_get_output\u001b[49m\u001b[43m(\u001b[49m\u001b[38;5;241;43m*\u001b[39;49m\u001b[43margs\u001b[49m\u001b[43m)\u001b[49m\u001b[43m,\u001b[49m\n\u001b[1;32m    427\u001b[0m \u001b[43m\u001b[49m\u001b[43m}\u001b[49m\u001b[43m[\u001b[49m\u001b[43moutput_type\u001b[49m\u001b[43m]\u001b[49m\u001b[43m(\u001b[49m\u001b[43m)\u001b[49m\n",
      "File \u001b[0;32m~/opt/anaconda3/lib/python3.9/site-packages/pytesseract/pytesseract.py:426\u001b[0m, in \u001b[0;36mimage_to_string.<locals>.<lambda>\u001b[0;34m()\u001b[0m\n\u001b[1;32m    418\u001b[0m \u001b[38;5;124;03m\"\"\"\u001b[39;00m\n\u001b[1;32m    419\u001b[0m \u001b[38;5;124;03mReturns the result of a Tesseract OCR run on the provided image to string\u001b[39;00m\n\u001b[1;32m    420\u001b[0m \u001b[38;5;124;03m\"\"\"\u001b[39;00m\n\u001b[1;32m    421\u001b[0m args \u001b[38;5;241m=\u001b[39m [image, \u001b[38;5;124m'\u001b[39m\u001b[38;5;124mtxt\u001b[39m\u001b[38;5;124m'\u001b[39m, lang, config, nice, timeout]\n\u001b[1;32m    423\u001b[0m \u001b[38;5;28;01mreturn\u001b[39;00m {\n\u001b[1;32m    424\u001b[0m     Output\u001b[38;5;241m.\u001b[39mBYTES: \u001b[38;5;28;01mlambda\u001b[39;00m: run_and_get_output(\u001b[38;5;241m*\u001b[39m(args \u001b[38;5;241m+\u001b[39m [\u001b[38;5;28;01mTrue\u001b[39;00m])),\n\u001b[1;32m    425\u001b[0m     Output\u001b[38;5;241m.\u001b[39mDICT: \u001b[38;5;28;01mlambda\u001b[39;00m: {\u001b[38;5;124m'\u001b[39m\u001b[38;5;124mtext\u001b[39m\u001b[38;5;124m'\u001b[39m: run_and_get_output(\u001b[38;5;241m*\u001b[39margs)},\n\u001b[0;32m--> 426\u001b[0m     Output\u001b[38;5;241m.\u001b[39mSTRING: \u001b[38;5;28;01mlambda\u001b[39;00m: \u001b[43mrun_and_get_output\u001b[49m\u001b[43m(\u001b[49m\u001b[38;5;241;43m*\u001b[39;49m\u001b[43margs\u001b[49m\u001b[43m)\u001b[49m,\n\u001b[1;32m    427\u001b[0m }[output_type]()\n",
      "File \u001b[0;32m~/opt/anaconda3/lib/python3.9/site-packages/pytesseract/pytesseract.py:288\u001b[0m, in \u001b[0;36mrun_and_get_output\u001b[0;34m(image, extension, lang, config, nice, timeout, return_bytes)\u001b[0m\n\u001b[1;32m    277\u001b[0m \u001b[38;5;28;01mwith\u001b[39;00m save(image) \u001b[38;5;28;01mas\u001b[39;00m (temp_name, input_filename):\n\u001b[1;32m    278\u001b[0m     kwargs \u001b[38;5;241m=\u001b[39m {\n\u001b[1;32m    279\u001b[0m         \u001b[38;5;124m'\u001b[39m\u001b[38;5;124minput_filename\u001b[39m\u001b[38;5;124m'\u001b[39m: input_filename,\n\u001b[1;32m    280\u001b[0m         \u001b[38;5;124m'\u001b[39m\u001b[38;5;124moutput_filename_base\u001b[39m\u001b[38;5;124m'\u001b[39m: temp_name,\n\u001b[0;32m   (...)\u001b[0m\n\u001b[1;32m    285\u001b[0m         \u001b[38;5;124m'\u001b[39m\u001b[38;5;124mtimeout\u001b[39m\u001b[38;5;124m'\u001b[39m: timeout,\n\u001b[1;32m    286\u001b[0m     }\n\u001b[0;32m--> 288\u001b[0m     \u001b[43mrun_tesseract\u001b[49m\u001b[43m(\u001b[49m\u001b[38;5;241;43m*\u001b[39;49m\u001b[38;5;241;43m*\u001b[39;49m\u001b[43mkwargs\u001b[49m\u001b[43m)\u001b[49m\n\u001b[1;32m    289\u001b[0m     filename \u001b[38;5;241m=\u001b[39m \u001b[38;5;124mf\u001b[39m\u001b[38;5;124m\"\u001b[39m\u001b[38;5;132;01m{\u001b[39;00mkwargs[\u001b[38;5;124m'\u001b[39m\u001b[38;5;124moutput_filename_base\u001b[39m\u001b[38;5;124m'\u001b[39m]\u001b[38;5;132;01m}\u001b[39;00m\u001b[38;5;132;01m{\u001b[39;00mextsep\u001b[38;5;132;01m}\u001b[39;00m\u001b[38;5;132;01m{\u001b[39;00mextension\u001b[38;5;132;01m}\u001b[39;00m\u001b[38;5;124m\"\u001b[39m\n\u001b[1;32m    290\u001b[0m     \u001b[38;5;28;01mwith\u001b[39;00m \u001b[38;5;28mopen\u001b[39m(filename, \u001b[38;5;124m'\u001b[39m\u001b[38;5;124mrb\u001b[39m\u001b[38;5;124m'\u001b[39m) \u001b[38;5;28;01mas\u001b[39;00m output_file:\n",
      "File \u001b[0;32m~/opt/anaconda3/lib/python3.9/site-packages/pytesseract/pytesseract.py:260\u001b[0m, in \u001b[0;36mrun_tesseract\u001b[0;34m(input_filename, output_filename_base, extension, lang, config, nice, timeout)\u001b[0m\n\u001b[1;32m    258\u001b[0m         \u001b[38;5;28;01mraise\u001b[39;00m\n\u001b[1;32m    259\u001b[0m     \u001b[38;5;28;01melse\u001b[39;00m:\n\u001b[0;32m--> 260\u001b[0m         \u001b[38;5;28;01mraise\u001b[39;00m TesseractNotFoundError()\n\u001b[1;32m    262\u001b[0m \u001b[38;5;28;01mwith\u001b[39;00m timeout_manager(proc, timeout) \u001b[38;5;28;01mas\u001b[39;00m error_string:\n\u001b[1;32m    263\u001b[0m     \u001b[38;5;28;01mif\u001b[39;00m proc\u001b[38;5;241m.\u001b[39mreturncode:\n",
      "\u001b[0;31mTesseractNotFoundError\u001b[0m: tesseract is not installed or it's not in your PATH. See README file for more information."
     ]
    }
   ],
   "source": [
    "from PIL import Image\n",
    "from pytesseract import pytesseract\n",
    "\n",
    "\n",
    "#Define path to image\n",
    "path_to_image = 'imageto.png'\n",
    "\n",
    "#Open image with PIL\n",
    "img = Image.open(path_to_image)\n",
    "\n",
    "#Extract text from image\n",
    "text = pytesseract.image_to_string(img)\n",
    "\n",
    "print(text)"
   ]
  },
  {
   "cell_type": "code",
   "execution_count": 3,
   "id": "972c6632",
   "metadata": {},
   "outputs": [
    {
     "name": "stdout",
     "output_type": "stream",
     "text": [
      "Requirement already satisfied: google-cloud-vision in /Users/ragarwal/opt/anaconda3/lib/python3.9/site-packages (1.0.2)\n",
      "Requirement already satisfied: protobuf<4.0.0dev in /Users/ragarwal/opt/anaconda3/lib/python3.9/site-packages (from google-cloud-vision) (3.20.3)\n",
      "Requirement already satisfied: google-api-core[grpc]!=2.0.*,!=2.1.*,!=2.2.*,!=2.3.0,<3.0.0dev,>=1.31.5 in /Users/ragarwal/opt/anaconda3/lib/python3.9/site-packages (from google-cloud-vision) (2.10.1)\n",
      "Requirement already satisfied: googleapis-common-protos<2.0dev,>=1.56.2 in /Users/ragarwal/opt/anaconda3/lib/python3.9/site-packages (from google-api-core[grpc]!=2.0.*,!=2.1.*,!=2.2.*,!=2.3.0,<3.0.0dev,>=1.31.5->google-cloud-vision) (1.56.4)\n",
      "Requirement already satisfied: google-auth<3.0dev,>=1.25.0 in /Users/ragarwal/opt/anaconda3/lib/python3.9/site-packages (from google-api-core[grpc]!=2.0.*,!=2.1.*,!=2.2.*,!=2.3.0,<3.0.0dev,>=1.31.5->google-cloud-vision) (1.33.0)\n",
      "Requirement already satisfied: requests<3.0.0dev,>=2.18.0 in /Users/ragarwal/opt/anaconda3/lib/python3.9/site-packages (from google-api-core[grpc]!=2.0.*,!=2.1.*,!=2.2.*,!=2.3.0,<3.0.0dev,>=1.31.5->google-cloud-vision) (2.27.1)\n",
      "Requirement already satisfied: grpcio-status<2.0dev,>=1.33.2 in /Users/ragarwal/opt/anaconda3/lib/python3.9/site-packages (from google-api-core[grpc]!=2.0.*,!=2.1.*,!=2.2.*,!=2.3.0,<3.0.0dev,>=1.31.5->google-cloud-vision) (1.48.2)\n",
      "Requirement already satisfied: grpcio<2.0dev,>=1.33.2 in /Users/ragarwal/opt/anaconda3/lib/python3.9/site-packages (from google-api-core[grpc]!=2.0.*,!=2.1.*,!=2.2.*,!=2.3.0,<3.0.0dev,>=1.31.5->google-cloud-vision) (1.49.1)\n",
      "Requirement already satisfied: cachetools<5.0,>=2.0.0 in /Users/ragarwal/opt/anaconda3/lib/python3.9/site-packages (from google-auth<3.0dev,>=1.25.0->google-api-core[grpc]!=2.0.*,!=2.1.*,!=2.2.*,!=2.3.0,<3.0.0dev,>=1.31.5->google-cloud-vision) (4.2.2)\n",
      "Requirement already satisfied: pyasn1-modules>=0.2.1 in /Users/ragarwal/opt/anaconda3/lib/python3.9/site-packages (from google-auth<3.0dev,>=1.25.0->google-api-core[grpc]!=2.0.*,!=2.1.*,!=2.2.*,!=2.3.0,<3.0.0dev,>=1.31.5->google-cloud-vision) (0.2.8)\n",
      "Requirement already satisfied: setuptools>=40.3.0 in /Users/ragarwal/opt/anaconda3/lib/python3.9/site-packages (from google-auth<3.0dev,>=1.25.0->google-api-core[grpc]!=2.0.*,!=2.1.*,!=2.2.*,!=2.3.0,<3.0.0dev,>=1.31.5->google-cloud-vision) (61.2.0)\n",
      "Requirement already satisfied: rsa<5,>=3.1.4 in /Users/ragarwal/opt/anaconda3/lib/python3.9/site-packages (from google-auth<3.0dev,>=1.25.0->google-api-core[grpc]!=2.0.*,!=2.1.*,!=2.2.*,!=2.3.0,<3.0.0dev,>=1.31.5->google-cloud-vision) (4.7.2)\n",
      "Requirement already satisfied: six>=1.9.0 in /Users/ragarwal/opt/anaconda3/lib/python3.9/site-packages (from google-auth<3.0dev,>=1.25.0->google-api-core[grpc]!=2.0.*,!=2.1.*,!=2.2.*,!=2.3.0,<3.0.0dev,>=1.31.5->google-cloud-vision) (1.16.0)\n",
      "Requirement already satisfied: idna<4,>=2.5 in /Users/ragarwal/opt/anaconda3/lib/python3.9/site-packages (from requests<3.0.0dev,>=2.18.0->google-api-core[grpc]!=2.0.*,!=2.1.*,!=2.2.*,!=2.3.0,<3.0.0dev,>=1.31.5->google-cloud-vision) (3.3)\n",
      "Requirement already satisfied: certifi>=2017.4.17 in /Users/ragarwal/opt/anaconda3/lib/python3.9/site-packages (from requests<3.0.0dev,>=2.18.0->google-api-core[grpc]!=2.0.*,!=2.1.*,!=2.2.*,!=2.3.0,<3.0.0dev,>=1.31.5->google-cloud-vision) (2021.10.8)\n",
      "Requirement already satisfied: charset-normalizer~=2.0.0 in /Users/ragarwal/opt/anaconda3/lib/python3.9/site-packages (from requests<3.0.0dev,>=2.18.0->google-api-core[grpc]!=2.0.*,!=2.1.*,!=2.2.*,!=2.3.0,<3.0.0dev,>=1.31.5->google-cloud-vision) (2.0.4)\n",
      "Requirement already satisfied: urllib3<1.27,>=1.21.1 in /Users/ragarwal/opt/anaconda3/lib/python3.9/site-packages (from requests<3.0.0dev,>=2.18.0->google-api-core[grpc]!=2.0.*,!=2.1.*,!=2.2.*,!=2.3.0,<3.0.0dev,>=1.31.5->google-cloud-vision) (1.26.9)\n",
      "Requirement already satisfied: pyasn1<0.5.0,>=0.4.6 in /Users/ragarwal/opt/anaconda3/lib/python3.9/site-packages (from pyasn1-modules>=0.2.1->google-auth<3.0dev,>=1.25.0->google-api-core[grpc]!=2.0.*,!=2.1.*,!=2.2.*,!=2.3.0,<3.0.0dev,>=1.31.5->google-cloud-vision) (0.4.8)\n",
      "\n",
      "\u001b[1m[\u001b[0m\u001b[34;49mnotice\u001b[0m\u001b[1;39;49m]\u001b[0m\u001b[39;49m A new release of pip is available: \u001b[0m\u001b[31;49m23.0.1\u001b[0m\u001b[39;49m -> \u001b[0m\u001b[32;49m23.1.2\u001b[0m\n",
      "\u001b[1m[\u001b[0m\u001b[34;49mnotice\u001b[0m\u001b[1;39;49m]\u001b[0m\u001b[39;49m To update, run: \u001b[0m\u001b[32;49mpip install --upgrade pip\u001b[0m\n"
     ]
    }
   ],
   "source": [
    "!pip install google-cloud-vision\n"
   ]
  },
  {
   "cell_type": "code",
   "execution_count": 9,
   "id": "452d9a94",
   "metadata": {},
   "outputs": [],
   "source": [
    "import os\n",
    "os.environ['GOOGLE_APPLICATION_CREDENTIALS'] ='/Users/ragarwal/Downloads/sparkdataproc-6af3511f4dfa.json'\n",
    "\n",
    "from google.cloud import vision\n",
    "\n",
    "# re is used to extract IMEI using regex\n",
    "import re"
   ]
  },
  {
   "cell_type": "code",
   "execution_count": 10,
   "id": "e7f861f3",
   "metadata": {},
   "outputs": [],
   "source": [
    "from google.cloud.vision_v1.types import Image"
   ]
  },
  {
   "cell_type": "code",
   "execution_count": 11,
   "id": "5458cef8",
   "metadata": {},
   "outputs": [],
   "source": [
    "\n",
    "vision_client = vision.ImageAnnotatorClient()\n",
    "image = Image()\n",
    "\n",
    "image_uri = 'https://upload.wikimedia.org/wikipedia/commons/b/bf/Mobile_phone_IMEI.jpg'\n",
    "\n",
    "image.source.image_uri = image_uri"
   ]
  },
  {
   "cell_type": "code",
   "execution_count": 12,
   "id": "eab3bc33",
   "metadata": {},
   "outputs": [
    {
     "ename": "PermissionDenied",
     "evalue": "403 This API method requires billing to be enabled. Please enable billing on project #182907578665 by visiting https://console.developers.google.com/billing/enable?project=182907578665 then retry. If you enabled billing for this project recently, wait a few minutes for the action to propagate to our systems and retry. [links {\n  description: \"Google developers console billing\"\n  url: \"https://console.developers.google.com/billing/enable?project=182907578665\"\n}\n, reason: \"BILLING_DISABLED\"\ndomain: \"googleapis.com\"\nmetadata {\n  key: \"consumer\"\n  value: \"projects/182907578665\"\n}\nmetadata {\n  key: \"service\"\n  value: \"vision.googleapis.com\"\n}\n]",
     "output_type": "error",
     "traceback": [
      "\u001b[0;31m---------------------------------------------------------------------------\u001b[0m",
      "\u001b[0;31m_InactiveRpcError\u001b[0m                         Traceback (most recent call last)",
      "File \u001b[0;32m~/opt/anaconda3/lib/python3.9/site-packages/google/api_core/grpc_helpers.py:72\u001b[0m, in \u001b[0;36m_wrap_unary_errors.<locals>.error_remapped_callable\u001b[0;34m(*args, **kwargs)\u001b[0m\n\u001b[1;32m     71\u001b[0m \u001b[38;5;28;01mtry\u001b[39;00m:\n\u001b[0;32m---> 72\u001b[0m     \u001b[38;5;28;01mreturn\u001b[39;00m \u001b[43mcallable_\u001b[49m\u001b[43m(\u001b[49m\u001b[38;5;241;43m*\u001b[39;49m\u001b[43margs\u001b[49m\u001b[43m,\u001b[49m\u001b[43m \u001b[49m\u001b[38;5;241;43m*\u001b[39;49m\u001b[38;5;241;43m*\u001b[39;49m\u001b[43mkwargs\u001b[49m\u001b[43m)\u001b[49m\n\u001b[1;32m     73\u001b[0m \u001b[38;5;28;01mexcept\u001b[39;00m grpc\u001b[38;5;241m.\u001b[39mRpcError \u001b[38;5;28;01mas\u001b[39;00m exc:\n",
      "File \u001b[0;32m~/opt/anaconda3/lib/python3.9/site-packages/grpc/_channel.py:946\u001b[0m, in \u001b[0;36m_UnaryUnaryMultiCallable.__call__\u001b[0;34m(self, request, timeout, metadata, credentials, wait_for_ready, compression)\u001b[0m\n\u001b[1;32m    944\u001b[0m state, call, \u001b[38;5;241m=\u001b[39m \u001b[38;5;28mself\u001b[39m\u001b[38;5;241m.\u001b[39m_blocking(request, timeout, metadata, credentials,\n\u001b[1;32m    945\u001b[0m                               wait_for_ready, compression)\n\u001b[0;32m--> 946\u001b[0m \u001b[38;5;28;01mreturn\u001b[39;00m \u001b[43m_end_unary_response_blocking\u001b[49m\u001b[43m(\u001b[49m\u001b[43mstate\u001b[49m\u001b[43m,\u001b[49m\u001b[43m \u001b[49m\u001b[43mcall\u001b[49m\u001b[43m,\u001b[49m\u001b[43m \u001b[49m\u001b[38;5;28;43;01mFalse\u001b[39;49;00m\u001b[43m,\u001b[49m\u001b[43m \u001b[49m\u001b[38;5;28;43;01mNone\u001b[39;49;00m\u001b[43m)\u001b[49m\n",
      "File \u001b[0;32m~/opt/anaconda3/lib/python3.9/site-packages/grpc/_channel.py:849\u001b[0m, in \u001b[0;36m_end_unary_response_blocking\u001b[0;34m(state, call, with_call, deadline)\u001b[0m\n\u001b[1;32m    848\u001b[0m \u001b[38;5;28;01melse\u001b[39;00m:\n\u001b[0;32m--> 849\u001b[0m     \u001b[38;5;28;01mraise\u001b[39;00m _InactiveRpcError(state)\n",
      "\u001b[0;31m_InactiveRpcError\u001b[0m: <_InactiveRpcError of RPC that terminated with:\n\tstatus = StatusCode.PERMISSION_DENIED\n\tdetails = \"This API method requires billing to be enabled. Please enable billing on project #182907578665 by visiting https://console.developers.google.com/billing/enable?project=182907578665 then retry. If you enabled billing for this project recently, wait a few minutes for the action to propagate to our systems and retry.\"\n\tdebug_error_string = \"UNKNOWN:Error received from peer ipv4:142.250.200.10:443 {created_time:\"2023-07-10T00:12:47.790967+01:00\", grpc_status:7, grpc_message:\"This API method requires billing to be enabled. Please enable billing on project #182907578665 by visiting https://console.developers.google.com/billing/enable?project=182907578665 then retry. If you enabled billing for this project recently, wait a few minutes for the action to propagate to our systems and retry.\"}\"\n>",
      "\nThe above exception was the direct cause of the following exception:\n",
      "\u001b[0;31mPermissionDenied\u001b[0m                          Traceback (most recent call last)",
      "Input \u001b[0;32mIn [12]\u001b[0m, in \u001b[0;36m<cell line: 1>\u001b[0;34m()\u001b[0m\n\u001b[0;32m----> 1\u001b[0m response \u001b[38;5;241m=\u001b[39m \u001b[43mvision_client\u001b[49m\u001b[38;5;241;43m.\u001b[39;49m\u001b[43mtext_detection\u001b[49m\u001b[43m(\u001b[49m\u001b[43mimage\u001b[49m\u001b[38;5;241;43m=\u001b[39;49m\u001b[43mimage\u001b[49m\u001b[43m)\u001b[49m\n",
      "File \u001b[0;32m~/opt/anaconda3/lib/python3.9/site-packages/google/cloud/vision_helpers/decorators.py:101\u001b[0m, in \u001b[0;36m_create_single_feature_method.<locals>.inner\u001b[0;34m(self, image, max_results, retry, timeout, **kwargs)\u001b[0m\n\u001b[1;32m     99\u001b[0m     copied_features[\u001b[38;5;124m\"\u001b[39m\u001b[38;5;124mmax_results\u001b[39m\u001b[38;5;124m\"\u001b[39m] \u001b[38;5;241m=\u001b[39m max_results\n\u001b[1;32m    100\u001b[0m request \u001b[38;5;241m=\u001b[39m \u001b[38;5;28mdict\u001b[39m(image\u001b[38;5;241m=\u001b[39mimage, features\u001b[38;5;241m=\u001b[39m[copied_features], \u001b[38;5;241m*\u001b[39m\u001b[38;5;241m*\u001b[39mkwargs)\n\u001b[0;32m--> 101\u001b[0m response \u001b[38;5;241m=\u001b[39m \u001b[38;5;28;43mself\u001b[39;49m\u001b[38;5;241;43m.\u001b[39;49m\u001b[43mannotate_image\u001b[49m\u001b[43m(\u001b[49m\u001b[43mrequest\u001b[49m\u001b[43m,\u001b[49m\u001b[43m \u001b[49m\u001b[43mretry\u001b[49m\u001b[38;5;241;43m=\u001b[39;49m\u001b[43mretry\u001b[49m\u001b[43m,\u001b[49m\u001b[43m \u001b[49m\u001b[43mtimeout\u001b[49m\u001b[38;5;241;43m=\u001b[39;49m\u001b[43mtimeout\u001b[49m\u001b[43m)\u001b[49m\n\u001b[1;32m    102\u001b[0m \u001b[38;5;28;01mreturn\u001b[39;00m response\n",
      "File \u001b[0;32m~/opt/anaconda3/lib/python3.9/site-packages/google/cloud/vision_helpers/__init__.py:72\u001b[0m, in \u001b[0;36mVisionHelpers.annotate_image\u001b[0;34m(self, request, retry, timeout)\u001b[0m\n\u001b[1;32m     69\u001b[0m \u001b[38;5;66;03m# This method allows features not to be specified, and you get all\u001b[39;00m\n\u001b[1;32m     70\u001b[0m \u001b[38;5;66;03m# of them.\u001b[39;00m\n\u001b[1;32m     71\u001b[0m protobuf\u001b[38;5;241m.\u001b[39msetdefault(request, \u001b[38;5;124m\"\u001b[39m\u001b[38;5;124mfeatures\u001b[39m\u001b[38;5;124m\"\u001b[39m, \u001b[38;5;28mself\u001b[39m\u001b[38;5;241m.\u001b[39m_get_all_features())\n\u001b[0;32m---> 72\u001b[0m r \u001b[38;5;241m=\u001b[39m \u001b[38;5;28;43mself\u001b[39;49m\u001b[38;5;241;43m.\u001b[39;49m\u001b[43mbatch_annotate_images\u001b[49m\u001b[43m(\u001b[49m\u001b[43m[\u001b[49m\u001b[43mrequest\u001b[49m\u001b[43m]\u001b[49m\u001b[43m,\u001b[49m\u001b[43m \u001b[49m\u001b[43mretry\u001b[49m\u001b[38;5;241;43m=\u001b[39;49m\u001b[43mretry\u001b[49m\u001b[43m,\u001b[49m\u001b[43m \u001b[49m\u001b[43mtimeout\u001b[49m\u001b[38;5;241;43m=\u001b[39;49m\u001b[43mtimeout\u001b[49m\u001b[43m)\u001b[49m\n\u001b[1;32m     73\u001b[0m \u001b[38;5;28;01mreturn\u001b[39;00m r\u001b[38;5;241m.\u001b[39mresponses[\u001b[38;5;241m0\u001b[39m]\n",
      "File \u001b[0;32m~/opt/anaconda3/lib/python3.9/site-packages/google/cloud/vision_v1/gapic/image_annotator_client.py:273\u001b[0m, in \u001b[0;36mImageAnnotatorClient.batch_annotate_images\u001b[0;34m(self, requests, parent, retry, timeout, metadata)\u001b[0m\n\u001b[1;32m    268\u001b[0m     routing_metadata \u001b[38;5;241m=\u001b[39m google\u001b[38;5;241m.\u001b[39mapi_core\u001b[38;5;241m.\u001b[39mgapic_v1\u001b[38;5;241m.\u001b[39mrouting_header\u001b[38;5;241m.\u001b[39mto_grpc_metadata(\n\u001b[1;32m    269\u001b[0m         routing_header\n\u001b[1;32m    270\u001b[0m     )\n\u001b[1;32m    271\u001b[0m     metadata\u001b[38;5;241m.\u001b[39mappend(routing_metadata)\n\u001b[0;32m--> 273\u001b[0m \u001b[38;5;28;01mreturn\u001b[39;00m \u001b[38;5;28;43mself\u001b[39;49m\u001b[38;5;241;43m.\u001b[39;49m\u001b[43m_inner_api_calls\u001b[49m\u001b[43m[\u001b[49m\u001b[38;5;124;43m\"\u001b[39;49m\u001b[38;5;124;43mbatch_annotate_images\u001b[39;49m\u001b[38;5;124;43m\"\u001b[39;49m\u001b[43m]\u001b[49m\u001b[43m(\u001b[49m\n\u001b[1;32m    274\u001b[0m \u001b[43m    \u001b[49m\u001b[43mrequest\u001b[49m\u001b[43m,\u001b[49m\u001b[43m \u001b[49m\u001b[43mretry\u001b[49m\u001b[38;5;241;43m=\u001b[39;49m\u001b[43mretry\u001b[49m\u001b[43m,\u001b[49m\u001b[43m \u001b[49m\u001b[43mtimeout\u001b[49m\u001b[38;5;241;43m=\u001b[39;49m\u001b[43mtimeout\u001b[49m\u001b[43m,\u001b[49m\u001b[43m \u001b[49m\u001b[43mmetadata\u001b[49m\u001b[38;5;241;43m=\u001b[39;49m\u001b[43mmetadata\u001b[49m\n\u001b[1;32m    275\u001b[0m \u001b[43m\u001b[49m\u001b[43m)\u001b[49m\n",
      "File \u001b[0;32m~/opt/anaconda3/lib/python3.9/site-packages/google/api_core/gapic_v1/method.py:154\u001b[0m, in \u001b[0;36m_GapicCallable.__call__\u001b[0;34m(self, timeout, retry, *args, **kwargs)\u001b[0m\n\u001b[1;32m    151\u001b[0m     metadata\u001b[38;5;241m.\u001b[39mextend(\u001b[38;5;28mself\u001b[39m\u001b[38;5;241m.\u001b[39m_metadata)\n\u001b[1;32m    152\u001b[0m     kwargs[\u001b[38;5;124m\"\u001b[39m\u001b[38;5;124mmetadata\u001b[39m\u001b[38;5;124m\"\u001b[39m] \u001b[38;5;241m=\u001b[39m metadata\n\u001b[0;32m--> 154\u001b[0m \u001b[38;5;28;01mreturn\u001b[39;00m \u001b[43mwrapped_func\u001b[49m\u001b[43m(\u001b[49m\u001b[38;5;241;43m*\u001b[39;49m\u001b[43margs\u001b[49m\u001b[43m,\u001b[49m\u001b[43m \u001b[49m\u001b[38;5;241;43m*\u001b[39;49m\u001b[38;5;241;43m*\u001b[39;49m\u001b[43mkwargs\u001b[49m\u001b[43m)\u001b[49m\n",
      "File \u001b[0;32m~/opt/anaconda3/lib/python3.9/site-packages/google/api_core/grpc_helpers.py:74\u001b[0m, in \u001b[0;36m_wrap_unary_errors.<locals>.error_remapped_callable\u001b[0;34m(*args, **kwargs)\u001b[0m\n\u001b[1;32m     72\u001b[0m     \u001b[38;5;28;01mreturn\u001b[39;00m callable_(\u001b[38;5;241m*\u001b[39margs, \u001b[38;5;241m*\u001b[39m\u001b[38;5;241m*\u001b[39mkwargs)\n\u001b[1;32m     73\u001b[0m \u001b[38;5;28;01mexcept\u001b[39;00m grpc\u001b[38;5;241m.\u001b[39mRpcError \u001b[38;5;28;01mas\u001b[39;00m exc:\n\u001b[0;32m---> 74\u001b[0m     \u001b[38;5;28;01mraise\u001b[39;00m exceptions\u001b[38;5;241m.\u001b[39mfrom_grpc_error(exc) \u001b[38;5;28;01mfrom\u001b[39;00m \u001b[38;5;21;01mexc\u001b[39;00m\n",
      "\u001b[0;31mPermissionDenied\u001b[0m: 403 This API method requires billing to be enabled. Please enable billing on project #182907578665 by visiting https://console.developers.google.com/billing/enable?project=182907578665 then retry. If you enabled billing for this project recently, wait a few minutes for the action to propagate to our systems and retry. [links {\n  description: \"Google developers console billing\"\n  url: \"https://console.developers.google.com/billing/enable?project=182907578665\"\n}\n, reason: \"BILLING_DISABLED\"\ndomain: \"googleapis.com\"\nmetadata {\n  key: \"consumer\"\n  value: \"projects/182907578665\"\n}\nmetadata {\n  key: \"service\"\n  value: \"vision.googleapis.com\"\n}\n]"
     ]
    }
   ],
   "source": [
    "response = vision_client.text_detection(image=image)"
   ]
  },
  {
   "cell_type": "code",
   "execution_count": 13,
   "id": "0a637d4d",
   "metadata": {},
   "outputs": [],
   "source": [
    "# twitter api"
   ]
  },
  {
   "cell_type": "code",
   "execution_count": 14,
   "id": "1cc40a37",
   "metadata": {},
   "outputs": [
    {
     "name": "stdout",
     "output_type": "stream",
     "text": [
      "Collecting tweepy\n",
      "  Downloading tweepy-4.14.0-py3-none-any.whl (98 kB)\n",
      "\u001b[2K     \u001b[90m━━━━━━━━━━━━━━━━━━━━━━━━━━━━━━━━━━━━━━━\u001b[0m \u001b[32m98.5/98.5 kB\u001b[0m \u001b[31m595.3 kB/s\u001b[0m eta \u001b[36m0:00:00\u001b[0ma \u001b[36m0:00:01\u001b[0m\n",
      "\u001b[?25hRequirement already satisfied: requests<3,>=2.27.0 in /Users/ragarwal/opt/anaconda3/lib/python3.9/site-packages (from tweepy) (2.27.1)\n",
      "Requirement already satisfied: oauthlib<4,>=3.2.0 in /Users/ragarwal/opt/anaconda3/lib/python3.9/site-packages (from tweepy) (3.2.1)\n",
      "Requirement already satisfied: requests-oauthlib<2,>=1.2.0 in /Users/ragarwal/opt/anaconda3/lib/python3.9/site-packages (from tweepy) (1.3.1)\n",
      "Requirement already satisfied: idna<4,>=2.5 in /Users/ragarwal/opt/anaconda3/lib/python3.9/site-packages (from requests<3,>=2.27.0->tweepy) (3.3)\n",
      "Requirement already satisfied: certifi>=2017.4.17 in /Users/ragarwal/opt/anaconda3/lib/python3.9/site-packages (from requests<3,>=2.27.0->tweepy) (2021.10.8)\n",
      "Requirement already satisfied: charset-normalizer~=2.0.0 in /Users/ragarwal/opt/anaconda3/lib/python3.9/site-packages (from requests<3,>=2.27.0->tweepy) (2.0.4)\n",
      "Requirement already satisfied: urllib3<1.27,>=1.21.1 in /Users/ragarwal/opt/anaconda3/lib/python3.9/site-packages (from requests<3,>=2.27.0->tweepy) (1.26.9)\n",
      "Installing collected packages: tweepy\n",
      "Successfully installed tweepy-4.14.0\n",
      "\n",
      "\u001b[1m[\u001b[0m\u001b[34;49mnotice\u001b[0m\u001b[1;39;49m]\u001b[0m\u001b[39;49m A new release of pip is available: \u001b[0m\u001b[31;49m23.0.1\u001b[0m\u001b[39;49m -> \u001b[0m\u001b[32;49m23.1.2\u001b[0m\n",
      "\u001b[1m[\u001b[0m\u001b[34;49mnotice\u001b[0m\u001b[1;39;49m]\u001b[0m\u001b[39;49m To update, run: \u001b[0m\u001b[32;49mpip install --upgrade pip\u001b[0m\n"
     ]
    }
   ],
   "source": [
    "!pip install tweepy"
   ]
  },
  {
   "cell_type": "code",
   "execution_count": 15,
   "id": "d1c078c1",
   "metadata": {},
   "outputs": [
    {
     "ename": "Forbidden",
     "evalue": "403 Forbidden",
     "output_type": "error",
     "traceback": [
      "\u001b[0;31m---------------------------------------------------------------------------\u001b[0m",
      "\u001b[0;31mForbidden\u001b[0m                                 Traceback (most recent call last)",
      "Input \u001b[0;32mIn [15]\u001b[0m, in \u001b[0;36m<cell line: 28>\u001b[0;34m()\u001b[0m\n\u001b[1;32m     26\u001b[0m     post_result \u001b[38;5;241m=\u001b[39m api\u001b[38;5;241m.\u001b[39mupdate_status(status\u001b[38;5;241m=\u001b[39mtweet, media_ids\u001b[38;5;241m=\u001b[39m[media\u001b[38;5;241m.\u001b[39mmedia_id])\n\u001b[1;32m     28\u001b[0m \u001b[38;5;28;01mif\u001b[39;00m \u001b[38;5;18m__name__\u001b[39m \u001b[38;5;241m==\u001b[39m \u001b[38;5;124m\"\u001b[39m\u001b[38;5;124m__main__\u001b[39m\u001b[38;5;124m\"\u001b[39m:\n\u001b[0;32m---> 29\u001b[0m     \u001b[43mmain\u001b[49m\u001b[43m(\u001b[49m\u001b[43m)\u001b[49m\n",
      "Input \u001b[0;32mIn [15]\u001b[0m, in \u001b[0;36mmain\u001b[0;34m()\u001b[0m\n\u001b[1;32m     19\u001b[0m api \u001b[38;5;241m=\u001b[39m tweepy\u001b[38;5;241m.\u001b[39mAPI(auth)\n\u001b[1;32m     21\u001b[0m \u001b[38;5;66;03m# Upload image\u001b[39;00m\n\u001b[0;32m---> 22\u001b[0m media \u001b[38;5;241m=\u001b[39m \u001b[43mapi\u001b[49m\u001b[38;5;241;43m.\u001b[39;49m\u001b[43mmedia_upload\u001b[49m\u001b[43m(\u001b[49m\u001b[38;5;124;43m\"\u001b[39;49m\u001b[38;5;124;43mimageto.png\u001b[39;49m\u001b[38;5;124;43m\"\u001b[39;49m\u001b[43m)\u001b[49m\n\u001b[1;32m     24\u001b[0m \u001b[38;5;66;03m# Post tweet with image\u001b[39;00m\n\u001b[1;32m     25\u001b[0m tweet \u001b[38;5;241m=\u001b[39m \u001b[38;5;124m\"\u001b[39m\u001b[38;5;124mMy new publication\u001b[39m\u001b[38;5;124m\"\u001b[39m\n",
      "File \u001b[0;32m~/opt/anaconda3/lib/python3.9/site-packages/tweepy/api.py:3403\u001b[0m, in \u001b[0;36mAPI.media_upload\u001b[0;34m(self, filename, file, chunked, media_category, additional_owners, **kwargs)\u001b[0m\n\u001b[1;32m   3397\u001b[0m     \u001b[38;5;28;01mreturn\u001b[39;00m \u001b[38;5;28mself\u001b[39m\u001b[38;5;241m.\u001b[39mchunked_upload(\n\u001b[1;32m   3398\u001b[0m         filename, file\u001b[38;5;241m=\u001b[39mfile, file_type\u001b[38;5;241m=\u001b[39mfile_type,\n\u001b[1;32m   3399\u001b[0m         media_category\u001b[38;5;241m=\u001b[39mmedia_category,\n\u001b[1;32m   3400\u001b[0m         additional_owners\u001b[38;5;241m=\u001b[39madditional_owners, \u001b[38;5;241m*\u001b[39m\u001b[38;5;241m*\u001b[39mkwargs\n\u001b[1;32m   3401\u001b[0m     )\n\u001b[1;32m   3402\u001b[0m \u001b[38;5;28;01melse\u001b[39;00m:\n\u001b[0;32m-> 3403\u001b[0m     \u001b[38;5;28;01mreturn\u001b[39;00m \u001b[38;5;28;43mself\u001b[39;49m\u001b[38;5;241;43m.\u001b[39;49m\u001b[43msimple_upload\u001b[49m\u001b[43m(\u001b[49m\n\u001b[1;32m   3404\u001b[0m \u001b[43m        \u001b[49m\u001b[43mfilename\u001b[49m\u001b[43m,\u001b[49m\u001b[43m \u001b[49m\u001b[43mfile\u001b[49m\u001b[38;5;241;43m=\u001b[39;49m\u001b[43mfile\u001b[49m\u001b[43m,\u001b[49m\u001b[43m \u001b[49m\u001b[43mmedia_category\u001b[49m\u001b[38;5;241;43m=\u001b[39;49m\u001b[43mmedia_category\u001b[49m\u001b[43m,\u001b[49m\n\u001b[1;32m   3405\u001b[0m \u001b[43m        \u001b[49m\u001b[43madditional_owners\u001b[49m\u001b[38;5;241;43m=\u001b[39;49m\u001b[43madditional_owners\u001b[49m\u001b[43m,\u001b[49m\u001b[43m \u001b[49m\u001b[38;5;241;43m*\u001b[39;49m\u001b[38;5;241;43m*\u001b[39;49m\u001b[43mkwargs\u001b[49m\n\u001b[1;32m   3406\u001b[0m \u001b[43m    \u001b[49m\u001b[43m)\u001b[49m\n",
      "File \u001b[0;32m~/opt/anaconda3/lib/python3.9/site-packages/tweepy/api.py:46\u001b[0m, in \u001b[0;36mpayload.<locals>.decorator.<locals>.wrapper\u001b[0;34m(*args, **kwargs)\u001b[0m\n\u001b[1;32m     44\u001b[0m kwargs[\u001b[38;5;124m'\u001b[39m\u001b[38;5;124mpayload_list\u001b[39m\u001b[38;5;124m'\u001b[39m] \u001b[38;5;241m=\u001b[39m payload_list\n\u001b[1;32m     45\u001b[0m kwargs[\u001b[38;5;124m'\u001b[39m\u001b[38;5;124mpayload_type\u001b[39m\u001b[38;5;124m'\u001b[39m] \u001b[38;5;241m=\u001b[39m payload_type\n\u001b[0;32m---> 46\u001b[0m \u001b[38;5;28;01mreturn\u001b[39;00m \u001b[43mmethod\u001b[49m\u001b[43m(\u001b[49m\u001b[38;5;241;43m*\u001b[39;49m\u001b[43margs\u001b[49m\u001b[43m,\u001b[49m\u001b[43m \u001b[49m\u001b[38;5;241;43m*\u001b[39;49m\u001b[38;5;241;43m*\u001b[39;49m\u001b[43mkwargs\u001b[49m\u001b[43m)\u001b[49m\n",
      "File \u001b[0;32m~/opt/anaconda3/lib/python3.9/site-packages/tweepy/api.py:3447\u001b[0m, in \u001b[0;36mAPI.simple_upload\u001b[0;34m(self, filename, file, media_category, additional_owners, **kwargs)\u001b[0m\n\u001b[1;32m   3444\u001b[0m \u001b[38;5;28;01mif\u001b[39;00m additional_owners \u001b[38;5;129;01mis\u001b[39;00m \u001b[38;5;129;01mnot\u001b[39;00m \u001b[38;5;28;01mNone\u001b[39;00m:\n\u001b[1;32m   3445\u001b[0m     post_data[\u001b[38;5;124m'\u001b[39m\u001b[38;5;124madditional_owners\u001b[39m\u001b[38;5;124m'\u001b[39m] \u001b[38;5;241m=\u001b[39m additional_owners\n\u001b[0;32m-> 3447\u001b[0m \u001b[38;5;28;01mreturn\u001b[39;00m \u001b[38;5;28;43mself\u001b[39;49m\u001b[38;5;241;43m.\u001b[39;49m\u001b[43mrequest\u001b[49m\u001b[43m(\u001b[49m\n\u001b[1;32m   3448\u001b[0m \u001b[43m    \u001b[49m\u001b[38;5;124;43m'\u001b[39;49m\u001b[38;5;124;43mPOST\u001b[39;49m\u001b[38;5;124;43m'\u001b[39;49m\u001b[43m,\u001b[49m\u001b[43m \u001b[49m\u001b[38;5;124;43m'\u001b[39;49m\u001b[38;5;124;43mmedia/upload\u001b[39;49m\u001b[38;5;124;43m'\u001b[39;49m\u001b[43m,\u001b[49m\u001b[43m \u001b[49m\u001b[43mpost_data\u001b[49m\u001b[38;5;241;43m=\u001b[39;49m\u001b[43mpost_data\u001b[49m\u001b[43m,\u001b[49m\u001b[43m \u001b[49m\u001b[43mfiles\u001b[49m\u001b[38;5;241;43m=\u001b[39;49m\u001b[43mfiles\u001b[49m\u001b[43m,\u001b[49m\n\u001b[1;32m   3449\u001b[0m \u001b[43m    \u001b[49m\u001b[43mupload_api\u001b[49m\u001b[38;5;241;43m=\u001b[39;49m\u001b[38;5;28;43;01mTrue\u001b[39;49;00m\u001b[43m,\u001b[49m\u001b[43m \u001b[49m\u001b[38;5;241;43m*\u001b[39;49m\u001b[38;5;241;43m*\u001b[39;49m\u001b[43mkwargs\u001b[49m\n\u001b[1;32m   3450\u001b[0m \u001b[43m\u001b[49m\u001b[43m)\u001b[49m\n",
      "File \u001b[0;32m~/opt/anaconda3/lib/python3.9/site-packages/tweepy/api.py:271\u001b[0m, in \u001b[0;36mAPI.request\u001b[0;34m(self, method, endpoint, endpoint_parameters, params, headers, json_payload, parser, payload_list, payload_type, post_data, files, require_auth, return_cursors, upload_api, use_cache, **kwargs)\u001b[0m\n\u001b[1;32m    269\u001b[0m     \u001b[38;5;28;01mraise\u001b[39;00m Unauthorized(resp)\n\u001b[1;32m    270\u001b[0m \u001b[38;5;28;01mif\u001b[39;00m resp\u001b[38;5;241m.\u001b[39mstatus_code \u001b[38;5;241m==\u001b[39m \u001b[38;5;241m403\u001b[39m:\n\u001b[0;32m--> 271\u001b[0m     \u001b[38;5;28;01mraise\u001b[39;00m Forbidden(resp)\n\u001b[1;32m    272\u001b[0m \u001b[38;5;28;01mif\u001b[39;00m resp\u001b[38;5;241m.\u001b[39mstatus_code \u001b[38;5;241m==\u001b[39m \u001b[38;5;241m404\u001b[39m:\n\u001b[1;32m    273\u001b[0m     \u001b[38;5;28;01mraise\u001b[39;00m NotFound(resp)\n",
      "\u001b[0;31mForbidden\u001b[0m: 403 Forbidden"
     ]
    }
   ],
   "source": [
    "import tweepy\n",
    " \n",
    "def main():\n",
    "    twitter_auth_keys = {\n",
    "        \"consumer_key\"        : \"zmxkugEB7uignnXydPhhABI5m\",\n",
    "        \"consumer_secret\"     : \"iQ2Raf4GhZCel7f1qEj8B8BUEA9P7in9vGXnSgFJBrA3hkADNh\",\n",
    "        \"access_token\"        : \"72127244-PmrVt64tG4GXBGqhqKk06yqC4V3cpDTabBXmV3vX8\",\n",
    "        \"access_token_secret\" : \"25SlinBRnwTxZi8oU9hqRROSBs22UXVo0uGAeuoKVu80d\"\n",
    "    }\n",
    " \n",
    "    auth = tweepy.OAuthHandler(\n",
    "            twitter_auth_keys['consumer_key'],\n",
    "            twitter_auth_keys['consumer_secret']\n",
    "            )\n",
    "    auth.set_access_token(\n",
    "            twitter_auth_keys['access_token'],\n",
    "            twitter_auth_keys['access_token_secret']\n",
    "            )\n",
    "    api = tweepy.API(auth)\n",
    " \n",
    "    # Upload image\n",
    "    media = api.media_upload(\"imageto.png\")\n",
    " \n",
    "    # Post tweet with image\n",
    "    tweet = \"My new publication\"\n",
    "    post_result = api.update_status(status=tweet, media_ids=[media.media_id])\n",
    " \n",
    "if __name__ == \"__main__\":\n",
    "    main()"
   ]
  },
  {
   "cell_type": "code",
   "execution_count": 24,
   "id": "cc66d780",
   "metadata": {},
   "outputs": [
    {
     "ename": "AttributeError",
     "evalue": "'API' object has no attribute 'create_tweet'",
     "output_type": "error",
     "traceback": [
      "\u001b[0;31m---------------------------------------------------------------------------\u001b[0m",
      "\u001b[0;31mAttributeError\u001b[0m                            Traceback (most recent call last)",
      "Input \u001b[0;32mIn [24]\u001b[0m, in \u001b[0;36m<cell line: 28>\u001b[0;34m()\u001b[0m\n\u001b[1;32m     26\u001b[0m     post_result \u001b[38;5;241m=\u001b[39m api\u001b[38;5;241m.\u001b[39mcreate_tweet(status\u001b[38;5;241m=\u001b[39mtweet)\n\u001b[1;32m     28\u001b[0m \u001b[38;5;28;01mif\u001b[39;00m \u001b[38;5;18m__name__\u001b[39m \u001b[38;5;241m==\u001b[39m \u001b[38;5;124m\"\u001b[39m\u001b[38;5;124m__main__\u001b[39m\u001b[38;5;124m\"\u001b[39m:\n\u001b[0;32m---> 29\u001b[0m     \u001b[43mmain\u001b[49m\u001b[43m(\u001b[49m\u001b[43m)\u001b[49m\n",
      "Input \u001b[0;32mIn [24]\u001b[0m, in \u001b[0;36mmain\u001b[0;34m()\u001b[0m\n\u001b[1;32m     21\u001b[0m \u001b[38;5;66;03m# Upload image\u001b[39;00m\n\u001b[1;32m     22\u001b[0m \u001b[38;5;66;03m#media = api.media_upload(\"imageto.png\")\u001b[39;00m\n\u001b[1;32m     23\u001b[0m \n\u001b[1;32m     24\u001b[0m \u001b[38;5;66;03m# Post tweet with image\u001b[39;00m\n\u001b[1;32m     25\u001b[0m tweet \u001b[38;5;241m=\u001b[39m \u001b[38;5;124m\"\u001b[39m\u001b[38;5;124mMy new publication\u001b[39m\u001b[38;5;124m\"\u001b[39m\n\u001b[0;32m---> 26\u001b[0m post_result \u001b[38;5;241m=\u001b[39m \u001b[43mapi\u001b[49m\u001b[38;5;241;43m.\u001b[39;49m\u001b[43mcreate_tweet\u001b[49m(status\u001b[38;5;241m=\u001b[39mtweet)\n",
      "\u001b[0;31mAttributeError\u001b[0m: 'API' object has no attribute 'create_tweet'"
     ]
    }
   ],
   "source": [
    "import tweepy\n",
    " \n",
    "def main():\n",
    "    twitter_auth_keys = {\n",
    "        \"consumer_key\"        : \"HLLlJqWQP4EeGq1M7YklNyW7L\",\n",
    "        \"consumer_secret\"     : \"H34AHTXv8tiIr4AMo6oFeR4a0Hd7RfmQ7d1zDZ8djVy1c9inIY\",\n",
    "        \"access_token\"        : \"72127244-g9p1OrNCbK1rA4Ako8mFwQNEixIe5SLrReMbqEF6n\",\n",
    "        \"access_token_secret\" : \"Cj4lmjp701IUzkJl5X56uwcbPpAO8hLZaKPN5U5K6jYUj\"\n",
    "    }\n",
    " \n",
    "    auth = tweepy.OAuthHandler(\n",
    "            twitter_auth_keys['consumer_key'],\n",
    "            twitter_auth_keys['consumer_secret']\n",
    "            )\n",
    "    auth.set_access_token(\n",
    "            twitter_auth_keys['access_token'],\n",
    "            twitter_auth_keys['access_token_secret']\n",
    "            )\n",
    "    api = tweepy.API(auth)\n",
    " \n",
    "    # Upload image\n",
    "    #media = api.media_upload(\"imageto.png\")\n",
    " \n",
    "    # Post tweet with image\n",
    "    tweet = \"My new publication\"\n",
    "    post_result = api.create_tweet(status=tweet)\n",
    " \n",
    "if __name__ == \"__main__\":\n",
    "    main()"
   ]
  },
  {
   "cell_type": "code",
   "execution_count": null,
   "id": "6e51fcbc",
   "metadata": {},
   "outputs": [],
   "source": [
    "cFBoaGxWbmpFbUFCUVNCcEpFRl86MTpjaQ\n",
    "JQyR_tvYywEzHpBMpY7htR6u865BQnNna74D8GVqkhRdPy_4gP\n",
    "\n",
    "\n",
    "    twitter_auth_keys = {\n",
    "        \"consumer_key\"        : \"jhnENEotemwyHZRwv6PEWDonv\",\n",
    "        \"consumer_secret\"     : \"ubeaRIIejMJOj5iGa89HIPWt6wopajvEOA0pIVJxTepee48cWU\",\n",
    "        \"access_token\"        : \"72127244-1qHjU8Tqzx6PZdZGtgUfteGm7kBkkpzTFgXOaBZ0A\",\n",
    "        \"access_token_secret\" : \"XyU4HXvzCrYCkpkWB7KEfwypToVaI4VoCjxRidwyG5C2X\"\n",
    "    }"
   ]
  },
  {
   "cell_type": "code",
   "execution_count": 23,
   "id": "646a04db",
   "metadata": {},
   "outputs": [
    {
     "name": "stdout",
     "output_type": "stream",
     "text": [
      "{\n",
      "  \"title\": \"Unauthorized\",\n",
      "  \"type\": \"about:blank\",\n",
      "  \"status\": 401,\n",
      "  \"detail\": \"Unauthorized\"\n",
      "}\n"
     ]
    }
   ],
   "source": [
    "import requests\n",
    "\n",
    "url = \"https://api.twitter.com/2/tweets\"\n",
    "\n",
    "payload = \"{\\n    \\\"text\\\": \\\"Hello World!\\\"\\n}\"\n",
    "headers = {}\n",
    "\n",
    "response = requests.request(\"POST\", url, headers=headers, data=payload)\n",
    "\n",
    "print(response.text)"
   ]
  },
  {
   "cell_type": "code",
   "execution_count": 25,
   "id": "34a51f8f",
   "metadata": {},
   "outputs": [],
   "source": [
    "twitter_auth_keys = {\n",
    "        \"consumer_key\"        : \"HLLlJqWQP4EeGq1M7YklNyW7L\",\n",
    "        \"consumer_secret\"     : \"H34AHTXv8tiIr4AMo6oFeR4a0Hd7RfmQ7d1zDZ8djVy1c9inIY\",\n",
    "        \"access_token\"        : \"72127244-g9p1OrNCbK1rA4Ako8mFwQNEixIe5SLrReMbqEF6n\",\n",
    "        \"access_token_secret\" : \"Cj4lmjp701IUzkJl5X56uwcbPpAO8hLZaKPN5U5K6jYUj\"\n",
    "    }\n",
    "\n",
    "\n",
    "    \n",
    "api = tweepy.Client(bearer_token='AAAAAAAAAAAAAAAAAAAAAAbSogEAAAAA5%2BdakxTOoLsI49f%2FaWvpcncJer4%3DVfo1GCCeiC16iNYhb76BvYpMzXwW3h7YkVbQfj9Mi1zn8o2AE1',\n",
    "                    access_token=twitter_auth_keys['access_token'],\n",
    "                    access_token_secret=twitter_auth_keys['access_token_secret'],\n",
    "                    consumer_key=twitter_auth_keys['consumer_key'],\n",
    "                    consumer_secret=twitter_auth_keys['consumer_secret'])"
   ]
  },
  {
   "cell_type": "code",
   "execution_count": 26,
   "id": "273c2167",
   "metadata": {},
   "outputs": [
    {
     "ename": "AttributeError",
     "evalue": "'Client' object has no attribute 'media_upload'",
     "output_type": "error",
     "traceback": [
      "\u001b[0;31m---------------------------------------------------------------------------\u001b[0m",
      "\u001b[0;31mAttributeError\u001b[0m                            Traceback (most recent call last)",
      "Input \u001b[0;32mIn [26]\u001b[0m, in \u001b[0;36m<cell line: 1>\u001b[0;34m()\u001b[0m\n\u001b[0;32m----> 1\u001b[0m media \u001b[38;5;241m=\u001b[39m \u001b[43mapi\u001b[49m\u001b[38;5;241;43m.\u001b[39;49m\u001b[43mmedia_upload\u001b[49m(\u001b[38;5;124m\"\u001b[39m\u001b[38;5;124mimageto.png\u001b[39m\u001b[38;5;124m\"\u001b[39m)\n",
      "\u001b[0;31mAttributeError\u001b[0m: 'Client' object has no attribute 'media_upload'"
     ]
    }
   ],
   "source": [
    "media = api."
   ]
  },
  {
   "cell_type": "code",
   "execution_count": 31,
   "id": "5742d400",
   "metadata": {},
   "outputs": [
    {
     "data": {
      "text/plain": [
       "Response(data={'edit_history_tweet_ids': ['1678192126746664961'], 'id': '1678192126746664961', 'text': 'Created our new publication https://t.co/c2yNsWGFaB'}, includes={}, errors=[], meta={})"
      ]
     },
     "execution_count": 31,
     "metadata": {},
     "output_type": "execute_result"
    }
   ],
   "source": [
    "api.create_tweet(text='Created our new publication',media_ids=[media.media_id])"
   ]
  },
  {
   "cell_type": "code",
   "execution_count": 28,
   "id": "38fd5228",
   "metadata": {},
   "outputs": [],
   "source": [
    "\n",
    "auth = tweepy.OAuth1UserHandler(\n",
    "    twitter_auth_keys['consumer_key'], twitter_auth_keys['consumer_secret'], twitter_auth_keys['access_token'], twitter_auth_keys['access_token_secret']\n",
    ")\n",
    "oldapi = tweepy.API(auth)\n",
    "\n",
    "media = oldapi.media_upload(\"imageto.png\")"
   ]
  },
  {
   "cell_type": "code",
   "execution_count": 29,
   "id": "a52c3aff",
   "metadata": {},
   "outputs": [
    {
     "data": {
      "text/plain": [
       "Media(_api=<tweepy.api.API object at 0x7fc34892d490>, media_id=1678191912761565185, media_id_string='1678191912761565185', size=65162, expires_after_secs=86400, image={'image_type': 'image/jpeg', 'w': 932, 'h': 822})"
      ]
     },
     "execution_count": 29,
     "metadata": {},
     "output_type": "execute_result"
    }
   ],
   "source": [
    "media"
   ]
  },
  {
   "cell_type": "code",
   "execution_count": 30,
   "id": "e5b443c5",
   "metadata": {},
   "outputs": [
    {
     "data": {
      "text/plain": [
       "1678191912761565185"
      ]
     },
     "execution_count": 30,
     "metadata": {},
     "output_type": "execute_result"
    }
   ],
   "source": [
    "media.media_id"
   ]
  },
  {
   "cell_type": "code",
   "execution_count": 32,
   "id": "99444912",
   "metadata": {},
   "outputs": [],
   "source": [
    "def post_tweet_with_image(tweettext, image_path):\n",
    "    twitter_auth_keys = {\n",
    "        \"consumer_key\"        : \"HLLlJqWQP4EeGq1M7YklNyW7L\",\n",
    "        \"consumer_secret\"     : \"H34AHTXv8tiIr4AMo6oFeR4a0Hd7RfmQ7d1zDZ8djVy1c9inIY\",\n",
    "        \"access_token\"        : \"72127244-g9p1OrNCbK1rA4Ako8mFwQNEixIe5SLrReMbqEF6n\",\n",
    "        \"access_token_secret\" : \"Cj4lmjp701IUzkJl5X56uwcbPpAO8hLZaKPN5U5K6jYUj\"\n",
    "    }\n",
    "    api = tweepy.Client(bearer_token='AAAAAAAAAAAAAAAAAAAAAAbSogEAAAAA5%2BdakxTOoLsI49f%2FaWvpcncJer4%3DVfo1GCCeiC16iNYhb76BvYpMzXwW3h7YkVbQfj9Mi1zn8o2AE1',\n",
    "                        access_token=twitter_auth_keys['access_token'],\n",
    "                        access_token_secret=twitter_auth_keys['access_token_secret'],\n",
    "                        consumer_key=twitter_auth_keys['consumer_key'],\n",
    "                        consumer_secret=twitter_auth_keys['consumer_secret'])\n",
    "    auth = tweepy.OAuth1UserHandler(\n",
    "    twitter_auth_keys['consumer_key'], twitter_auth_keys['consumer_secret'], twitter_auth_keys['access_token'], twitter_auth_keys['access_token_secret']\n",
    "    )\n",
    "    oldapi = tweepy.API(auth)\n",
    "    media = oldapi.media_upload(image_path)\n",
    "    api.create_tweet(text=tweettext , media_ids=[media.media_id])\n"
   ]
  },
  {
   "cell_type": "code",
   "execution_count": null,
   "id": "cbf3b356",
   "metadata": {},
   "outputs": [],
   "source": []
  }
 ],
 "metadata": {
  "kernelspec": {
   "display_name": "Python 3 (ipykernel)",
   "language": "python",
   "name": "python3"
  },
  "language_info": {
   "codemirror_mode": {
    "name": "ipython",
    "version": 3
   },
   "file_extension": ".py",
   "mimetype": "text/x-python",
   "name": "python",
   "nbconvert_exporter": "python",
   "pygments_lexer": "ipython3",
   "version": "3.9.12"
  }
 },
 "nbformat": 4,
 "nbformat_minor": 5
}
